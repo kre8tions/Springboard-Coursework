{
 "cells": [
  {
   "cell_type": "markdown",
   "metadata": {},
   "source": [
    "# Relax - Data Science Take Home Challenge"
   ]
  },
  {
   "cell_type": "markdown",
   "metadata": {},
   "source": [
    "### Part 1 - Exploratory Data Analysis"
   ]
  },
  {
   "cell_type": "markdown",
   "metadata": {},
   "source": [
    "A  user  table  ( \"takehome_users\" )  with  data  on  12,000  users  who  signed  up  for  the\n",
    "product  in  the  last  two  years. This  table  includes:\n",
    "\n",
    "    ● name:  the  user's  name\n",
    "    ● object_id:   the  user's  id\n",
    "    ● email:  email  address\n",
    "    ● creation_source:   how  their  account  was  created.  This  takes  on  one of  5  values:\n",
    "        ○ PERSONAL_PROJECTS:  invited  to  join  another  user's\n",
    "        personal  workspace\n",
    "        ○ GUEST_INVITE:  invited  to  an  organization  as  a  guest (limited  permissions)\n",
    "        ○ ORG_INVITE:  invited  to  an  organization  (as  a  full  member)\n",
    "        ○ SIGNUP:  signed  up  via  the  website\n",
    "        ○ SIGNUP_GOOGLE_AUTH:  signed  up  using  Google Authentication  (using  a  Google  email  account  for  their  \n",
    "        login id)\n",
    "    ● creation_time:  when  they  created  their  account\n",
    "    ● last_session_creation_time:   unix  timestamp  of  last  login\n",
    "    ● opted_in_to_mailing_list:  whether  they  have  opted  into  receiving marketing  emails\n",
    "    ● enabled_for_marketing_drip:  whether  they  are  on  the  regular marketing  email  drip\n",
    "    ● org_id:   the  organization  (group  of  users)  they  belong  to\n",
    "    ● invited_by_user_id:   which  user  invited  them  to  join  (if  applicable)."
   ]
  },
  {
   "cell_type": "markdown",
   "metadata": {},
   "source": [
    "A  usage  summary  table  ( \"takehome_user_engagement\" )  that  has  a  row  for  each  day\n",
    "that  a  user  logged  into  the  product.\n",
    "\n",
    "Defining  an  \"adopted  user\"   as  a  user  who   has  logged  into  the  product  on  three  separate\n",
    "days  in  at  least  one  seven­day  period ,  identify  which  factors  predict  future  user\n",
    "adoption ."
   ]
  },
  {
   "cell_type": "markdown",
   "metadata": {},
   "source": [
    "#### Importing Libraries"
   ]
  },
  {
   "cell_type": "code",
   "execution_count": 1,
   "metadata": {},
   "outputs": [],
   "source": [
    "import pandas as pd\n",
    "import numpy as np\n",
    "from datetime import datetime"
   ]
  },
  {
   "cell_type": "code",
   "execution_count": 2,
   "metadata": {},
   "outputs": [],
   "source": [
    "import warnings\n",
    "warnings.filterwarnings(\"ignore\")"
   ]
  },
  {
   "cell_type": "code",
   "execution_count": 3,
   "metadata": {
    "scrolled": false
   },
   "outputs": [],
   "source": [
    "# plot setting\n",
    "from matplotlib import pyplot as plt\n",
    "import seaborn as sns\n",
    "sns.set(rc={'figure.figsize':(16,10)})"
   ]
  },
  {
   "cell_type": "code",
   "execution_count": 4,
   "metadata": {},
   "outputs": [],
   "source": [
    "## Models\n",
    "from sklearn.linear_model import LogisticRegression\n",
    "from sklearn.neighbors import KNeighborsClassifier\n",
    "from sklearn.ensemble import RandomForestClassifier\n",
    "\n",
    "## Model evaluators\n",
    "from sklearn.model_selection import train_test_split, cross_val_score\n",
    "from sklearn.model_selection import RandomizedSearchCV, GridSearchCV\n",
    "from sklearn.metrics import confusion_matrix, classification_report\n",
    "from sklearn.metrics import precision_score, recall_score, f1_score\n",
    "from sklearn.metrics import plot_roc_curve"
   ]
  },
  {
   "cell_type": "markdown",
   "metadata": {},
   "source": [
    "#### Reading in our Data and doing initial EDA"
   ]
  },
  {
   "cell_type": "code",
   "execution_count": 5,
   "metadata": {
    "scrolled": true
   },
   "outputs": [
    {
     "data": {
      "text/html": [
       "<div>\n",
       "<style scoped>\n",
       "    .dataframe tbody tr th:only-of-type {\n",
       "        vertical-align: middle;\n",
       "    }\n",
       "\n",
       "    .dataframe tbody tr th {\n",
       "        vertical-align: top;\n",
       "    }\n",
       "\n",
       "    .dataframe thead th {\n",
       "        text-align: right;\n",
       "    }\n",
       "</style>\n",
       "<table border=\"1\" class=\"dataframe\">\n",
       "  <thead>\n",
       "    <tr style=\"text-align: right;\">\n",
       "      <th></th>\n",
       "      <th>object_id</th>\n",
       "      <th>name</th>\n",
       "      <th>email</th>\n",
       "      <th>creation_source</th>\n",
       "      <th>last_session_creation_time</th>\n",
       "      <th>opted_in_to_mailing_list</th>\n",
       "      <th>enabled_for_marketing_drip</th>\n",
       "      <th>org_id</th>\n",
       "      <th>invited_by_user_id</th>\n",
       "    </tr>\n",
       "    <tr>\n",
       "      <th>creation_time</th>\n",
       "      <th></th>\n",
       "      <th></th>\n",
       "      <th></th>\n",
       "      <th></th>\n",
       "      <th></th>\n",
       "      <th></th>\n",
       "      <th></th>\n",
       "      <th></th>\n",
       "      <th></th>\n",
       "    </tr>\n",
       "  </thead>\n",
       "  <tbody>\n",
       "    <tr>\n",
       "      <th>2014-04-22 03:53:30</th>\n",
       "      <td>1</td>\n",
       "      <td>Clausen August</td>\n",
       "      <td>AugustCClausen@yahoo.com</td>\n",
       "      <td>GUEST_INVITE</td>\n",
       "      <td>1.398139e+09</td>\n",
       "      <td>1</td>\n",
       "      <td>0</td>\n",
       "      <td>11</td>\n",
       "      <td>10803.0</td>\n",
       "    </tr>\n",
       "    <tr>\n",
       "      <th>2013-11-15 03:45:04</th>\n",
       "      <td>2</td>\n",
       "      <td>Poole Matthew</td>\n",
       "      <td>MatthewPoole@gustr.com</td>\n",
       "      <td>ORG_INVITE</td>\n",
       "      <td>1.396238e+09</td>\n",
       "      <td>0</td>\n",
       "      <td>0</td>\n",
       "      <td>1</td>\n",
       "      <td>316.0</td>\n",
       "    </tr>\n",
       "    <tr>\n",
       "      <th>2013-03-19 23:14:52</th>\n",
       "      <td>3</td>\n",
       "      <td>Bottrill Mitchell</td>\n",
       "      <td>MitchellBottrill@gustr.com</td>\n",
       "      <td>ORG_INVITE</td>\n",
       "      <td>1.363735e+09</td>\n",
       "      <td>0</td>\n",
       "      <td>0</td>\n",
       "      <td>94</td>\n",
       "      <td>1525.0</td>\n",
       "    </tr>\n",
       "    <tr>\n",
       "      <th>2013-05-21 08:09:28</th>\n",
       "      <td>4</td>\n",
       "      <td>Clausen Nicklas</td>\n",
       "      <td>NicklasSClausen@yahoo.com</td>\n",
       "      <td>GUEST_INVITE</td>\n",
       "      <td>1.369210e+09</td>\n",
       "      <td>0</td>\n",
       "      <td>0</td>\n",
       "      <td>1</td>\n",
       "      <td>5151.0</td>\n",
       "    </tr>\n",
       "    <tr>\n",
       "      <th>2013-01-17 10:14:20</th>\n",
       "      <td>5</td>\n",
       "      <td>Raw Grace</td>\n",
       "      <td>GraceRaw@yahoo.com</td>\n",
       "      <td>GUEST_INVITE</td>\n",
       "      <td>1.358850e+09</td>\n",
       "      <td>0</td>\n",
       "      <td>0</td>\n",
       "      <td>193</td>\n",
       "      <td>5240.0</td>\n",
       "    </tr>\n",
       "  </tbody>\n",
       "</table>\n",
       "</div>"
      ],
      "text/plain": [
       "                     object_id               name                       email  \\\n",
       "creation_time                                                                   \n",
       "2014-04-22 03:53:30          1     Clausen August    AugustCClausen@yahoo.com   \n",
       "2013-11-15 03:45:04          2      Poole Matthew      MatthewPoole@gustr.com   \n",
       "2013-03-19 23:14:52          3  Bottrill Mitchell  MitchellBottrill@gustr.com   \n",
       "2013-05-21 08:09:28          4    Clausen Nicklas   NicklasSClausen@yahoo.com   \n",
       "2013-01-17 10:14:20          5          Raw Grace          GraceRaw@yahoo.com   \n",
       "\n",
       "                    creation_source  last_session_creation_time  \\\n",
       "creation_time                                                     \n",
       "2014-04-22 03:53:30    GUEST_INVITE                1.398139e+09   \n",
       "2013-11-15 03:45:04      ORG_INVITE                1.396238e+09   \n",
       "2013-03-19 23:14:52      ORG_INVITE                1.363735e+09   \n",
       "2013-05-21 08:09:28    GUEST_INVITE                1.369210e+09   \n",
       "2013-01-17 10:14:20    GUEST_INVITE                1.358850e+09   \n",
       "\n",
       "                     opted_in_to_mailing_list  enabled_for_marketing_drip  \\\n",
       "creation_time                                                               \n",
       "2014-04-22 03:53:30                         1                           0   \n",
       "2013-11-15 03:45:04                         0                           0   \n",
       "2013-03-19 23:14:52                         0                           0   \n",
       "2013-05-21 08:09:28                         0                           0   \n",
       "2013-01-17 10:14:20                         0                           0   \n",
       "\n",
       "                     org_id  invited_by_user_id  \n",
       "creation_time                                    \n",
       "2014-04-22 03:53:30      11             10803.0  \n",
       "2013-11-15 03:45:04       1               316.0  \n",
       "2013-03-19 23:14:52      94              1525.0  \n",
       "2013-05-21 08:09:28       1              5151.0  \n",
       "2013-01-17 10:14:20     193              5240.0  "
      ]
     },
     "execution_count": 5,
     "metadata": {},
     "output_type": "execute_result"
    }
   ],
   "source": [
    "# Reading in the files\n",
    "relax = pd.read_csv('takehome_users.csv', encoding = \"latin1\", parse_dates=True, index_col = 'creation_time')\n",
    "relax.head()"
   ]
  },
  {
   "cell_type": "code",
   "execution_count": 6,
   "metadata": {
    "scrolled": true
   },
   "outputs": [
    {
     "data": {
      "text/html": [
       "<div>\n",
       "<style scoped>\n",
       "    .dataframe tbody tr th:only-of-type {\n",
       "        vertical-align: middle;\n",
       "    }\n",
       "\n",
       "    .dataframe tbody tr th {\n",
       "        vertical-align: top;\n",
       "    }\n",
       "\n",
       "    .dataframe thead th {\n",
       "        text-align: right;\n",
       "    }\n",
       "</style>\n",
       "<table border=\"1\" class=\"dataframe\">\n",
       "  <thead>\n",
       "    <tr style=\"text-align: right;\">\n",
       "      <th></th>\n",
       "      <th>time_stamp</th>\n",
       "      <th>user_id</th>\n",
       "      <th>visited</th>\n",
       "    </tr>\n",
       "  </thead>\n",
       "  <tbody>\n",
       "    <tr>\n",
       "      <th>0</th>\n",
       "      <td>2014-04-22 03:53:30</td>\n",
       "      <td>1</td>\n",
       "      <td>1</td>\n",
       "    </tr>\n",
       "    <tr>\n",
       "      <th>1</th>\n",
       "      <td>2013-11-15 03:45:04</td>\n",
       "      <td>2</td>\n",
       "      <td>1</td>\n",
       "    </tr>\n",
       "    <tr>\n",
       "      <th>2</th>\n",
       "      <td>2013-11-29 03:45:04</td>\n",
       "      <td>2</td>\n",
       "      <td>1</td>\n",
       "    </tr>\n",
       "    <tr>\n",
       "      <th>3</th>\n",
       "      <td>2013-12-09 03:45:04</td>\n",
       "      <td>2</td>\n",
       "      <td>1</td>\n",
       "    </tr>\n",
       "    <tr>\n",
       "      <th>4</th>\n",
       "      <td>2013-12-25 03:45:04</td>\n",
       "      <td>2</td>\n",
       "      <td>1</td>\n",
       "    </tr>\n",
       "  </tbody>\n",
       "</table>\n",
       "</div>"
      ],
      "text/plain": [
       "           time_stamp  user_id  visited\n",
       "0 2014-04-22 03:53:30        1        1\n",
       "1 2013-11-15 03:45:04        2        1\n",
       "2 2013-11-29 03:45:04        2        1\n",
       "3 2013-12-09 03:45:04        2        1\n",
       "4 2013-12-25 03:45:04        2        1"
      ]
     },
     "execution_count": 6,
     "metadata": {},
     "output_type": "execute_result"
    }
   ],
   "source": [
    "relax_engagement = pd.read_csv('takehome_user_engagement.csv', encoding = \"latin1\", parse_dates=['time_stamp'])\n",
    "relax_engagement.head()"
   ]
  },
  {
   "cell_type": "code",
   "execution_count": 7,
   "metadata": {
    "scrolled": true
   },
   "outputs": [
    {
     "data": {
      "text/html": [
       "<div>\n",
       "<style scoped>\n",
       "    .dataframe tbody tr th:only-of-type {\n",
       "        vertical-align: middle;\n",
       "    }\n",
       "\n",
       "    .dataframe tbody tr th {\n",
       "        vertical-align: top;\n",
       "    }\n",
       "\n",
       "    .dataframe thead th {\n",
       "        text-align: right;\n",
       "    }\n",
       "</style>\n",
       "<table border=\"1\" class=\"dataframe\">\n",
       "  <thead>\n",
       "    <tr style=\"text-align: right;\">\n",
       "      <th></th>\n",
       "      <th>user_id</th>\n",
       "      <th>name</th>\n",
       "      <th>email</th>\n",
       "      <th>creation_source</th>\n",
       "      <th>last_session_creation_time</th>\n",
       "      <th>opted_in_to_mailing_list</th>\n",
       "      <th>enabled_for_marketing_drip</th>\n",
       "      <th>org_id</th>\n",
       "      <th>invited_by_user_id</th>\n",
       "    </tr>\n",
       "    <tr>\n",
       "      <th>creation_time</th>\n",
       "      <th></th>\n",
       "      <th></th>\n",
       "      <th></th>\n",
       "      <th></th>\n",
       "      <th></th>\n",
       "      <th></th>\n",
       "      <th></th>\n",
       "      <th></th>\n",
       "      <th></th>\n",
       "    </tr>\n",
       "  </thead>\n",
       "  <tbody>\n",
       "    <tr>\n",
       "      <th>2014-04-22 03:53:30</th>\n",
       "      <td>1</td>\n",
       "      <td>Clausen August</td>\n",
       "      <td>AugustCClausen@yahoo.com</td>\n",
       "      <td>GUEST_INVITE</td>\n",
       "      <td>1.398139e+09</td>\n",
       "      <td>1</td>\n",
       "      <td>0</td>\n",
       "      <td>11</td>\n",
       "      <td>10803.0</td>\n",
       "    </tr>\n",
       "    <tr>\n",
       "      <th>2013-11-15 03:45:04</th>\n",
       "      <td>2</td>\n",
       "      <td>Poole Matthew</td>\n",
       "      <td>MatthewPoole@gustr.com</td>\n",
       "      <td>ORG_INVITE</td>\n",
       "      <td>1.396238e+09</td>\n",
       "      <td>0</td>\n",
       "      <td>0</td>\n",
       "      <td>1</td>\n",
       "      <td>316.0</td>\n",
       "    </tr>\n",
       "    <tr>\n",
       "      <th>2013-03-19 23:14:52</th>\n",
       "      <td>3</td>\n",
       "      <td>Bottrill Mitchell</td>\n",
       "      <td>MitchellBottrill@gustr.com</td>\n",
       "      <td>ORG_INVITE</td>\n",
       "      <td>1.363735e+09</td>\n",
       "      <td>0</td>\n",
       "      <td>0</td>\n",
       "      <td>94</td>\n",
       "      <td>1525.0</td>\n",
       "    </tr>\n",
       "    <tr>\n",
       "      <th>2013-05-21 08:09:28</th>\n",
       "      <td>4</td>\n",
       "      <td>Clausen Nicklas</td>\n",
       "      <td>NicklasSClausen@yahoo.com</td>\n",
       "      <td>GUEST_INVITE</td>\n",
       "      <td>1.369210e+09</td>\n",
       "      <td>0</td>\n",
       "      <td>0</td>\n",
       "      <td>1</td>\n",
       "      <td>5151.0</td>\n",
       "    </tr>\n",
       "    <tr>\n",
       "      <th>2013-01-17 10:14:20</th>\n",
       "      <td>5</td>\n",
       "      <td>Raw Grace</td>\n",
       "      <td>GraceRaw@yahoo.com</td>\n",
       "      <td>GUEST_INVITE</td>\n",
       "      <td>1.358850e+09</td>\n",
       "      <td>0</td>\n",
       "      <td>0</td>\n",
       "      <td>193</td>\n",
       "      <td>5240.0</td>\n",
       "    </tr>\n",
       "  </tbody>\n",
       "</table>\n",
       "</div>"
      ],
      "text/plain": [
       "                     user_id               name                       email  \\\n",
       "creation_time                                                                 \n",
       "2014-04-22 03:53:30        1     Clausen August    AugustCClausen@yahoo.com   \n",
       "2013-11-15 03:45:04        2      Poole Matthew      MatthewPoole@gustr.com   \n",
       "2013-03-19 23:14:52        3  Bottrill Mitchell  MitchellBottrill@gustr.com   \n",
       "2013-05-21 08:09:28        4    Clausen Nicklas   NicklasSClausen@yahoo.com   \n",
       "2013-01-17 10:14:20        5          Raw Grace          GraceRaw@yahoo.com   \n",
       "\n",
       "                    creation_source  last_session_creation_time  \\\n",
       "creation_time                                                     \n",
       "2014-04-22 03:53:30    GUEST_INVITE                1.398139e+09   \n",
       "2013-11-15 03:45:04      ORG_INVITE                1.396238e+09   \n",
       "2013-03-19 23:14:52      ORG_INVITE                1.363735e+09   \n",
       "2013-05-21 08:09:28    GUEST_INVITE                1.369210e+09   \n",
       "2013-01-17 10:14:20    GUEST_INVITE                1.358850e+09   \n",
       "\n",
       "                     opted_in_to_mailing_list  enabled_for_marketing_drip  \\\n",
       "creation_time                                                               \n",
       "2014-04-22 03:53:30                         1                           0   \n",
       "2013-11-15 03:45:04                         0                           0   \n",
       "2013-03-19 23:14:52                         0                           0   \n",
       "2013-05-21 08:09:28                         0                           0   \n",
       "2013-01-17 10:14:20                         0                           0   \n",
       "\n",
       "                     org_id  invited_by_user_id  \n",
       "creation_time                                    \n",
       "2014-04-22 03:53:30      11             10803.0  \n",
       "2013-11-15 03:45:04       1               316.0  \n",
       "2013-03-19 23:14:52      94              1525.0  \n",
       "2013-05-21 08:09:28       1              5151.0  \n",
       "2013-01-17 10:14:20     193              5240.0  "
      ]
     },
     "execution_count": 7,
     "metadata": {},
     "output_type": "execute_result"
    }
   ],
   "source": [
    "# Renaming object_id column to user_id column to match the other csv file\n",
    "relax = relax.rename({'object_id': 'user_id'}, axis=1)\n",
    "relax.head()"
   ]
  },
  {
   "cell_type": "code",
   "execution_count": 8,
   "metadata": {
    "scrolled": true
   },
   "outputs": [
    {
     "name": "stdout",
     "output_type": "stream",
     "text": [
      "<class 'pandas.core.frame.DataFrame'>\n",
      "DatetimeIndex: 8823 entries, 2014-04-22 03:53:30 to 2014-01-26 08:57:12\n",
      "Data columns (total 9 columns):\n",
      " #   Column                      Non-Null Count  Dtype  \n",
      "---  ------                      --------------  -----  \n",
      " 0   user_id                     8823 non-null   int64  \n",
      " 1   name                        8823 non-null   object \n",
      " 2   email                       8823 non-null   object \n",
      " 3   creation_source             8823 non-null   object \n",
      " 4   last_session_creation_time  8823 non-null   float64\n",
      " 5   opted_in_to_mailing_list    8823 non-null   int64  \n",
      " 6   enabled_for_marketing_drip  8823 non-null   int64  \n",
      " 7   org_id                      8823 non-null   int64  \n",
      " 8   invited_by_user_id          4776 non-null   float64\n",
      "dtypes: float64(2), int64(4), object(3)\n",
      "memory usage: 689.3+ KB\n"
     ]
    }
   ],
   "source": [
    "relax.dropna(subset = ['last_session_creation_time'], inplace=True)\n",
    "relax.info()"
   ]
  },
  {
   "cell_type": "code",
   "execution_count": 9,
   "metadata": {
    "scrolled": true
   },
   "outputs": [
    {
     "data": {
      "text/html": [
       "<div>\n",
       "<style scoped>\n",
       "    .dataframe tbody tr th:only-of-type {\n",
       "        vertical-align: middle;\n",
       "    }\n",
       "\n",
       "    .dataframe tbody tr th {\n",
       "        vertical-align: top;\n",
       "    }\n",
       "\n",
       "    .dataframe thead th {\n",
       "        text-align: right;\n",
       "    }\n",
       "</style>\n",
       "<table border=\"1\" class=\"dataframe\">\n",
       "  <thead>\n",
       "    <tr style=\"text-align: right;\">\n",
       "      <th></th>\n",
       "      <th>user_id</th>\n",
       "      <th>name</th>\n",
       "      <th>email</th>\n",
       "      <th>creation_source</th>\n",
       "      <th>last_session_creation_time</th>\n",
       "      <th>opted_in_to_mailing_list</th>\n",
       "      <th>enabled_for_marketing_drip</th>\n",
       "      <th>org_id</th>\n",
       "      <th>invited_by_user_id</th>\n",
       "    </tr>\n",
       "    <tr>\n",
       "      <th>creation_time</th>\n",
       "      <th></th>\n",
       "      <th></th>\n",
       "      <th></th>\n",
       "      <th></th>\n",
       "      <th></th>\n",
       "      <th></th>\n",
       "      <th></th>\n",
       "      <th></th>\n",
       "      <th></th>\n",
       "    </tr>\n",
       "  </thead>\n",
       "  <tbody>\n",
       "    <tr>\n",
       "      <th>2014-04-22 03:53:30</th>\n",
       "      <td>1</td>\n",
       "      <td>Clausen August</td>\n",
       "      <td>AugustCClausen@yahoo.com</td>\n",
       "      <td>GUEST_INVITE</td>\n",
       "      <td>2014-04-22 03:53:30</td>\n",
       "      <td>1</td>\n",
       "      <td>0</td>\n",
       "      <td>11</td>\n",
       "      <td>10803.0</td>\n",
       "    </tr>\n",
       "    <tr>\n",
       "      <th>2013-11-15 03:45:04</th>\n",
       "      <td>2</td>\n",
       "      <td>Poole Matthew</td>\n",
       "      <td>MatthewPoole@gustr.com</td>\n",
       "      <td>ORG_INVITE</td>\n",
       "      <td>2014-03-31 03:45:04</td>\n",
       "      <td>0</td>\n",
       "      <td>0</td>\n",
       "      <td>1</td>\n",
       "      <td>316.0</td>\n",
       "    </tr>\n",
       "    <tr>\n",
       "      <th>2013-03-19 23:14:52</th>\n",
       "      <td>3</td>\n",
       "      <td>Bottrill Mitchell</td>\n",
       "      <td>MitchellBottrill@gustr.com</td>\n",
       "      <td>ORG_INVITE</td>\n",
       "      <td>2013-03-19 23:14:52</td>\n",
       "      <td>0</td>\n",
       "      <td>0</td>\n",
       "      <td>94</td>\n",
       "      <td>1525.0</td>\n",
       "    </tr>\n",
       "    <tr>\n",
       "      <th>2013-05-21 08:09:28</th>\n",
       "      <td>4</td>\n",
       "      <td>Clausen Nicklas</td>\n",
       "      <td>NicklasSClausen@yahoo.com</td>\n",
       "      <td>GUEST_INVITE</td>\n",
       "      <td>2013-05-22 08:09:28</td>\n",
       "      <td>0</td>\n",
       "      <td>0</td>\n",
       "      <td>1</td>\n",
       "      <td>5151.0</td>\n",
       "    </tr>\n",
       "    <tr>\n",
       "      <th>2013-01-17 10:14:20</th>\n",
       "      <td>5</td>\n",
       "      <td>Raw Grace</td>\n",
       "      <td>GraceRaw@yahoo.com</td>\n",
       "      <td>GUEST_INVITE</td>\n",
       "      <td>2013-01-22 10:14:20</td>\n",
       "      <td>0</td>\n",
       "      <td>0</td>\n",
       "      <td>193</td>\n",
       "      <td>5240.0</td>\n",
       "    </tr>\n",
       "  </tbody>\n",
       "</table>\n",
       "</div>"
      ],
      "text/plain": [
       "                     user_id               name                       email  \\\n",
       "creation_time                                                                 \n",
       "2014-04-22 03:53:30        1     Clausen August    AugustCClausen@yahoo.com   \n",
       "2013-11-15 03:45:04        2      Poole Matthew      MatthewPoole@gustr.com   \n",
       "2013-03-19 23:14:52        3  Bottrill Mitchell  MitchellBottrill@gustr.com   \n",
       "2013-05-21 08:09:28        4    Clausen Nicklas   NicklasSClausen@yahoo.com   \n",
       "2013-01-17 10:14:20        5          Raw Grace          GraceRaw@yahoo.com   \n",
       "\n",
       "                    creation_source last_session_creation_time  \\\n",
       "creation_time                                                    \n",
       "2014-04-22 03:53:30    GUEST_INVITE        2014-04-22 03:53:30   \n",
       "2013-11-15 03:45:04      ORG_INVITE        2014-03-31 03:45:04   \n",
       "2013-03-19 23:14:52      ORG_INVITE        2013-03-19 23:14:52   \n",
       "2013-05-21 08:09:28    GUEST_INVITE        2013-05-22 08:09:28   \n",
       "2013-01-17 10:14:20    GUEST_INVITE        2013-01-22 10:14:20   \n",
       "\n",
       "                     opted_in_to_mailing_list  enabled_for_marketing_drip  \\\n",
       "creation_time                                                               \n",
       "2014-04-22 03:53:30                         1                           0   \n",
       "2013-11-15 03:45:04                         0                           0   \n",
       "2013-03-19 23:14:52                         0                           0   \n",
       "2013-05-21 08:09:28                         0                           0   \n",
       "2013-01-17 10:14:20                         0                           0   \n",
       "\n",
       "                     org_id  invited_by_user_id  \n",
       "creation_time                                    \n",
       "2014-04-22 03:53:30      11             10803.0  \n",
       "2013-11-15 03:45:04       1               316.0  \n",
       "2013-03-19 23:14:52      94              1525.0  \n",
       "2013-05-21 08:09:28       1              5151.0  \n",
       "2013-01-17 10:14:20     193              5240.0  "
      ]
     },
     "execution_count": 9,
     "metadata": {},
     "output_type": "execute_result"
    }
   ],
   "source": [
    "# Convert last_session_creation_time to a datetime object\n",
    "relax['last_session_creation_time'] = pd.to_datetime(relax['last_session_creation_time'], unit='s')\n",
    "relax.head()"
   ]
  },
  {
   "cell_type": "code",
   "execution_count": 10,
   "metadata": {
    "scrolled": false
   },
   "outputs": [
    {
     "name": "stdout",
     "output_type": "stream",
     "text": [
      "<class 'pandas.core.frame.DataFrame'>\n",
      "DatetimeIndex: 8823 entries, 2014-04-22 03:53:30 to 2014-01-26 08:57:12\n",
      "Data columns (total 9 columns):\n",
      " #   Column                      Non-Null Count  Dtype         \n",
      "---  ------                      --------------  -----         \n",
      " 0   user_id                     8823 non-null   int64         \n",
      " 1   name                        8823 non-null   object        \n",
      " 2   email                       8823 non-null   object        \n",
      " 3   creation_source             8823 non-null   object        \n",
      " 4   last_session_creation_time  8823 non-null   datetime64[ns]\n",
      " 5   opted_in_to_mailing_list    8823 non-null   int64         \n",
      " 6   enabled_for_marketing_drip  8823 non-null   int64         \n",
      " 7   org_id                      8823 non-null   int64         \n",
      " 8   invited_by_user_id          4776 non-null   float64       \n",
      "dtypes: datetime64[ns](1), float64(1), int64(4), object(3)\n",
      "memory usage: 689.3+ KB\n"
     ]
    }
   ],
   "source": [
    "relax.info()"
   ]
  },
  {
   "cell_type": "code",
   "execution_count": 11,
   "metadata": {
    "scrolled": true
   },
   "outputs": [
    {
     "data": {
      "text/html": [
       "<div>\n",
       "<style scoped>\n",
       "    .dataframe tbody tr th:only-of-type {\n",
       "        vertical-align: middle;\n",
       "    }\n",
       "\n",
       "    .dataframe tbody tr th {\n",
       "        vertical-align: top;\n",
       "    }\n",
       "\n",
       "    .dataframe thead th {\n",
       "        text-align: right;\n",
       "    }\n",
       "</style>\n",
       "<table border=\"1\" class=\"dataframe\">\n",
       "  <thead>\n",
       "    <tr style=\"text-align: right;\">\n",
       "      <th></th>\n",
       "      <th>user_id</th>\n",
       "      <th>name</th>\n",
       "      <th>email</th>\n",
       "      <th>creation_source</th>\n",
       "      <th>last_session_creation_time</th>\n",
       "      <th>opted_in_to_mailing_list</th>\n",
       "      <th>enabled_for_marketing_drip</th>\n",
       "      <th>org_id</th>\n",
       "      <th>invited_by_user_id</th>\n",
       "    </tr>\n",
       "    <tr>\n",
       "      <th>creation_time</th>\n",
       "      <th></th>\n",
       "      <th></th>\n",
       "      <th></th>\n",
       "      <th></th>\n",
       "      <th></th>\n",
       "      <th></th>\n",
       "      <th></th>\n",
       "      <th></th>\n",
       "      <th></th>\n",
       "    </tr>\n",
       "  </thead>\n",
       "  <tbody>\n",
       "    <tr>\n",
       "      <th>2014-04-22 03:53:30</th>\n",
       "      <td>1</td>\n",
       "      <td>Clausen August</td>\n",
       "      <td>AugustCClausen@yahoo.com</td>\n",
       "      <td>GUEST_INVITE</td>\n",
       "      <td>2014-04-22 03:53:30</td>\n",
       "      <td>1</td>\n",
       "      <td>0</td>\n",
       "      <td>11</td>\n",
       "      <td>10803.0</td>\n",
       "    </tr>\n",
       "    <tr>\n",
       "      <th>2013-11-15 03:45:04</th>\n",
       "      <td>2</td>\n",
       "      <td>Poole Matthew</td>\n",
       "      <td>MatthewPoole@gustr.com</td>\n",
       "      <td>ORG_INVITE</td>\n",
       "      <td>2014-03-31 03:45:04</td>\n",
       "      <td>0</td>\n",
       "      <td>0</td>\n",
       "      <td>1</td>\n",
       "      <td>316.0</td>\n",
       "    </tr>\n",
       "    <tr>\n",
       "      <th>2013-03-19 23:14:52</th>\n",
       "      <td>3</td>\n",
       "      <td>Bottrill Mitchell</td>\n",
       "      <td>MitchellBottrill@gustr.com</td>\n",
       "      <td>ORG_INVITE</td>\n",
       "      <td>2013-03-19 23:14:52</td>\n",
       "      <td>0</td>\n",
       "      <td>0</td>\n",
       "      <td>94</td>\n",
       "      <td>1525.0</td>\n",
       "    </tr>\n",
       "    <tr>\n",
       "      <th>2013-05-21 08:09:28</th>\n",
       "      <td>4</td>\n",
       "      <td>Clausen Nicklas</td>\n",
       "      <td>NicklasSClausen@yahoo.com</td>\n",
       "      <td>GUEST_INVITE</td>\n",
       "      <td>2013-05-22 08:09:28</td>\n",
       "      <td>0</td>\n",
       "      <td>0</td>\n",
       "      <td>1</td>\n",
       "      <td>5151.0</td>\n",
       "    </tr>\n",
       "    <tr>\n",
       "      <th>2013-01-17 10:14:20</th>\n",
       "      <td>5</td>\n",
       "      <td>Raw Grace</td>\n",
       "      <td>GraceRaw@yahoo.com</td>\n",
       "      <td>GUEST_INVITE</td>\n",
       "      <td>2013-01-22 10:14:20</td>\n",
       "      <td>0</td>\n",
       "      <td>0</td>\n",
       "      <td>193</td>\n",
       "      <td>5240.0</td>\n",
       "    </tr>\n",
       "  </tbody>\n",
       "</table>\n",
       "</div>"
      ],
      "text/plain": [
       "                     user_id               name                       email  \\\n",
       "creation_time                                                                 \n",
       "2014-04-22 03:53:30        1     Clausen August    AugustCClausen@yahoo.com   \n",
       "2013-11-15 03:45:04        2      Poole Matthew      MatthewPoole@gustr.com   \n",
       "2013-03-19 23:14:52        3  Bottrill Mitchell  MitchellBottrill@gustr.com   \n",
       "2013-05-21 08:09:28        4    Clausen Nicklas   NicklasSClausen@yahoo.com   \n",
       "2013-01-17 10:14:20        5          Raw Grace          GraceRaw@yahoo.com   \n",
       "\n",
       "                    creation_source last_session_creation_time  \\\n",
       "creation_time                                                    \n",
       "2014-04-22 03:53:30    GUEST_INVITE        2014-04-22 03:53:30   \n",
       "2013-11-15 03:45:04      ORG_INVITE        2014-03-31 03:45:04   \n",
       "2013-03-19 23:14:52      ORG_INVITE        2013-03-19 23:14:52   \n",
       "2013-05-21 08:09:28    GUEST_INVITE        2013-05-22 08:09:28   \n",
       "2013-01-17 10:14:20    GUEST_INVITE        2013-01-22 10:14:20   \n",
       "\n",
       "                     opted_in_to_mailing_list  enabled_for_marketing_drip  \\\n",
       "creation_time                                                               \n",
       "2014-04-22 03:53:30                         1                           0   \n",
       "2013-11-15 03:45:04                         0                           0   \n",
       "2013-03-19 23:14:52                         0                           0   \n",
       "2013-05-21 08:09:28                         0                           0   \n",
       "2013-01-17 10:14:20                         0                           0   \n",
       "\n",
       "                     org_id  invited_by_user_id  \n",
       "creation_time                                    \n",
       "2014-04-22 03:53:30      11             10803.0  \n",
       "2013-11-15 03:45:04       1               316.0  \n",
       "2013-03-19 23:14:52      94              1525.0  \n",
       "2013-05-21 08:09:28       1              5151.0  \n",
       "2013-01-17 10:14:20     193              5240.0  "
      ]
     },
     "execution_count": 11,
     "metadata": {},
     "output_type": "execute_result"
    }
   ],
   "source": [
    "relax.head()"
   ]
  },
  {
   "cell_type": "code",
   "execution_count": 12,
   "metadata": {
    "scrolled": true
   },
   "outputs": [
    {
     "data": {
      "text/html": [
       "<div>\n",
       "<style scoped>\n",
       "    .dataframe tbody tr th:only-of-type {\n",
       "        vertical-align: middle;\n",
       "    }\n",
       "\n",
       "    .dataframe tbody tr th {\n",
       "        vertical-align: top;\n",
       "    }\n",
       "\n",
       "    .dataframe thead th {\n",
       "        text-align: right;\n",
       "    }\n",
       "</style>\n",
       "<table border=\"1\" class=\"dataframe\">\n",
       "  <thead>\n",
       "    <tr style=\"text-align: right;\">\n",
       "      <th></th>\n",
       "      <th>user_id</th>\n",
       "      <th>name</th>\n",
       "      <th>email</th>\n",
       "      <th>creation_source</th>\n",
       "      <th>last_session_creation_time</th>\n",
       "      <th>opted_in_to_mailing_list</th>\n",
       "      <th>enabled_for_marketing_drip</th>\n",
       "      <th>org_id</th>\n",
       "      <th>invited_by_user_id</th>\n",
       "    </tr>\n",
       "    <tr>\n",
       "      <th>creation_time</th>\n",
       "      <th></th>\n",
       "      <th></th>\n",
       "      <th></th>\n",
       "      <th></th>\n",
       "      <th></th>\n",
       "      <th></th>\n",
       "      <th></th>\n",
       "      <th></th>\n",
       "      <th></th>\n",
       "    </tr>\n",
       "  </thead>\n",
       "  <tbody>\n",
       "    <tr>\n",
       "      <th>2012-05-31 00:43:27</th>\n",
       "      <td>3861</td>\n",
       "      <td>Jensen Stine</td>\n",
       "      <td>StineAJensen@yahoo.com</td>\n",
       "      <td>ORG_INVITE</td>\n",
       "      <td>2012-06-03 00:43:27</td>\n",
       "      <td>0</td>\n",
       "      <td>0</td>\n",
       "      <td>115</td>\n",
       "      <td>3861.0</td>\n",
       "    </tr>\n",
       "    <tr>\n",
       "      <th>2012-05-31 01:42:31</th>\n",
       "      <td>11430</td>\n",
       "      <td>Wood Levi</td>\n",
       "      <td>LeviWood@hotmail.com</td>\n",
       "      <td>ORG_INVITE</td>\n",
       "      <td>2012-06-01 01:42:31</td>\n",
       "      <td>0</td>\n",
       "      <td>0</td>\n",
       "      <td>239</td>\n",
       "      <td>5677.0</td>\n",
       "    </tr>\n",
       "    <tr>\n",
       "      <th>2012-05-31 06:23:51</th>\n",
       "      <td>7170</td>\n",
       "      <td>Cavalcanti Leonardo</td>\n",
       "      <td>LeonardoPereiraCavalcanti@hotmail.com</td>\n",
       "      <td>ORG_INVITE</td>\n",
       "      <td>2012-08-20 06:23:51</td>\n",
       "      <td>0</td>\n",
       "      <td>0</td>\n",
       "      <td>145</td>\n",
       "      <td>7170.0</td>\n",
       "    </tr>\n",
       "    <tr>\n",
       "      <th>2012-05-31 08:20:06</th>\n",
       "      <td>10012</td>\n",
       "      <td>Spikes Danille</td>\n",
       "      <td>DanilleJSpikes@hotmail.com</td>\n",
       "      <td>ORG_INVITE</td>\n",
       "      <td>2012-05-31 08:20:06</td>\n",
       "      <td>0</td>\n",
       "      <td>1</td>\n",
       "      <td>225</td>\n",
       "      <td>7104.0</td>\n",
       "    </tr>\n",
       "    <tr>\n",
       "      <th>2012-05-31 11:55:59</th>\n",
       "      <td>11999</td>\n",
       "      <td>Faber Annett</td>\n",
       "      <td>mhaerzxp@iuxiw.com</td>\n",
       "      <td>PERSONAL_PROJECTS</td>\n",
       "      <td>2012-06-02 11:55:59</td>\n",
       "      <td>0</td>\n",
       "      <td>0</td>\n",
       "      <td>6</td>\n",
       "      <td>NaN</td>\n",
       "    </tr>\n",
       "    <tr>\n",
       "      <th>...</th>\n",
       "      <td>...</td>\n",
       "      <td>...</td>\n",
       "      <td>...</td>\n",
       "      <td>...</td>\n",
       "      <td>...</td>\n",
       "      <td>...</td>\n",
       "      <td>...</td>\n",
       "      <td>...</td>\n",
       "      <td>...</td>\n",
       "    </tr>\n",
       "    <tr>\n",
       "      <th>2014-05-30 23:10:35</th>\n",
       "      <td>6945</td>\n",
       "      <td>Sandoval Matthew</td>\n",
       "      <td>MatthewKSandoval@cuvox.de</td>\n",
       "      <td>SIGNUP</td>\n",
       "      <td>2014-05-31 23:10:35</td>\n",
       "      <td>0</td>\n",
       "      <td>0</td>\n",
       "      <td>5</td>\n",
       "      <td>NaN</td>\n",
       "    </tr>\n",
       "    <tr>\n",
       "      <th>2014-05-30 23:12:01</th>\n",
       "      <td>9688</td>\n",
       "      <td>Coveny Taj</td>\n",
       "      <td>TajCoveny@yahoo.com</td>\n",
       "      <td>GUEST_INVITE</td>\n",
       "      <td>2014-06-01 23:12:01</td>\n",
       "      <td>0</td>\n",
       "      <td>0</td>\n",
       "      <td>93</td>\n",
       "      <td>7296.0</td>\n",
       "    </tr>\n",
       "    <tr>\n",
       "      <th>2014-05-30 23:27:30</th>\n",
       "      <td>10164</td>\n",
       "      <td>Walsh Sam</td>\n",
       "      <td>SamWalsh@jourrapide.com</td>\n",
       "      <td>GUEST_INVITE</td>\n",
       "      <td>2014-05-30 23:27:30</td>\n",
       "      <td>0</td>\n",
       "      <td>0</td>\n",
       "      <td>302</td>\n",
       "      <td>5383.0</td>\n",
       "    </tr>\n",
       "    <tr>\n",
       "      <th>2014-05-30 23:45:01</th>\n",
       "      <td>3490</td>\n",
       "      <td>Oliveira Estevan</td>\n",
       "      <td>EstevanRochaOliveira@gmail.com</td>\n",
       "      <td>PERSONAL_PROJECTS</td>\n",
       "      <td>2014-05-31 23:45:01</td>\n",
       "      <td>0</td>\n",
       "      <td>0</td>\n",
       "      <td>31</td>\n",
       "      <td>NaN</td>\n",
       "    </tr>\n",
       "    <tr>\n",
       "      <th>2014-05-30 23:59:19</th>\n",
       "      <td>6053</td>\n",
       "      <td>Armbruster Kandace</td>\n",
       "      <td>KandacePArmbruster@hotmail.com</td>\n",
       "      <td>GUEST_INVITE</td>\n",
       "      <td>2014-05-30 23:59:19</td>\n",
       "      <td>1</td>\n",
       "      <td>0</td>\n",
       "      <td>7</td>\n",
       "      <td>3421.0</td>\n",
       "    </tr>\n",
       "  </tbody>\n",
       "</table>\n",
       "<p>8823 rows × 9 columns</p>\n",
       "</div>"
      ],
      "text/plain": [
       "                     user_id                 name  \\\n",
       "creation_time                                       \n",
       "2012-05-31 00:43:27     3861         Jensen Stine   \n",
       "2012-05-31 01:42:31    11430            Wood Levi   \n",
       "2012-05-31 06:23:51     7170  Cavalcanti Leonardo   \n",
       "2012-05-31 08:20:06    10012       Spikes Danille   \n",
       "2012-05-31 11:55:59    11999         Faber Annett   \n",
       "...                      ...                  ...   \n",
       "2014-05-30 23:10:35     6945     Sandoval Matthew   \n",
       "2014-05-30 23:12:01     9688           Coveny Taj   \n",
       "2014-05-30 23:27:30    10164            Walsh Sam   \n",
       "2014-05-30 23:45:01     3490     Oliveira Estevan   \n",
       "2014-05-30 23:59:19     6053   Armbruster Kandace   \n",
       "\n",
       "                                                     email    creation_source  \\\n",
       "creation_time                                                                   \n",
       "2012-05-31 00:43:27                 StineAJensen@yahoo.com         ORG_INVITE   \n",
       "2012-05-31 01:42:31                   LeviWood@hotmail.com         ORG_INVITE   \n",
       "2012-05-31 06:23:51  LeonardoPereiraCavalcanti@hotmail.com         ORG_INVITE   \n",
       "2012-05-31 08:20:06             DanilleJSpikes@hotmail.com         ORG_INVITE   \n",
       "2012-05-31 11:55:59                     mhaerzxp@iuxiw.com  PERSONAL_PROJECTS   \n",
       "...                                                    ...                ...   \n",
       "2014-05-30 23:10:35              MatthewKSandoval@cuvox.de             SIGNUP   \n",
       "2014-05-30 23:12:01                    TajCoveny@yahoo.com       GUEST_INVITE   \n",
       "2014-05-30 23:27:30                SamWalsh@jourrapide.com       GUEST_INVITE   \n",
       "2014-05-30 23:45:01         EstevanRochaOliveira@gmail.com  PERSONAL_PROJECTS   \n",
       "2014-05-30 23:59:19         KandacePArmbruster@hotmail.com       GUEST_INVITE   \n",
       "\n",
       "                    last_session_creation_time  opted_in_to_mailing_list  \\\n",
       "creation_time                                                              \n",
       "2012-05-31 00:43:27        2012-06-03 00:43:27                         0   \n",
       "2012-05-31 01:42:31        2012-06-01 01:42:31                         0   \n",
       "2012-05-31 06:23:51        2012-08-20 06:23:51                         0   \n",
       "2012-05-31 08:20:06        2012-05-31 08:20:06                         0   \n",
       "2012-05-31 11:55:59        2012-06-02 11:55:59                         0   \n",
       "...                                        ...                       ...   \n",
       "2014-05-30 23:10:35        2014-05-31 23:10:35                         0   \n",
       "2014-05-30 23:12:01        2014-06-01 23:12:01                         0   \n",
       "2014-05-30 23:27:30        2014-05-30 23:27:30                         0   \n",
       "2014-05-30 23:45:01        2014-05-31 23:45:01                         0   \n",
       "2014-05-30 23:59:19        2014-05-30 23:59:19                         1   \n",
       "\n",
       "                     enabled_for_marketing_drip  org_id  invited_by_user_id  \n",
       "creation_time                                                                \n",
       "2012-05-31 00:43:27                           0     115              3861.0  \n",
       "2012-05-31 01:42:31                           0     239              5677.0  \n",
       "2012-05-31 06:23:51                           0     145              7170.0  \n",
       "2012-05-31 08:20:06                           1     225              7104.0  \n",
       "2012-05-31 11:55:59                           0       6                 NaN  \n",
       "...                                         ...     ...                 ...  \n",
       "2014-05-30 23:10:35                           0       5                 NaN  \n",
       "2014-05-30 23:12:01                           0      93              7296.0  \n",
       "2014-05-30 23:27:30                           0     302              5383.0  \n",
       "2014-05-30 23:45:01                           0      31                 NaN  \n",
       "2014-05-30 23:59:19                           0       7              3421.0  \n",
       "\n",
       "[8823 rows x 9 columns]"
      ]
     },
     "execution_count": 12,
     "metadata": {},
     "output_type": "execute_result"
    }
   ],
   "source": [
    "# Index out of order.  Sort index \n",
    "relax_si = relax.sort_index()\n",
    "relax_si"
   ]
  },
  {
   "cell_type": "markdown",
   "metadata": {},
   "source": [
    "#### Indentify users who logged in more than 3 times in a period of 7 days or less"
   ]
  },
  {
   "cell_type": "code",
   "execution_count": 13,
   "metadata": {
    "scrolled": true
   },
   "outputs": [
    {
     "data": {
      "text/html": [
       "<div>\n",
       "<style scoped>\n",
       "    .dataframe tbody tr th:only-of-type {\n",
       "        vertical-align: middle;\n",
       "    }\n",
       "\n",
       "    .dataframe tbody tr th {\n",
       "        vertical-align: top;\n",
       "    }\n",
       "\n",
       "    .dataframe thead th {\n",
       "        text-align: right;\n",
       "    }\n",
       "</style>\n",
       "<table border=\"1\" class=\"dataframe\">\n",
       "  <thead>\n",
       "    <tr style=\"text-align: right;\">\n",
       "      <th></th>\n",
       "      <th>time_stamp</th>\n",
       "      <th>user_id</th>\n",
       "      <th>visited</th>\n",
       "    </tr>\n",
       "  </thead>\n",
       "  <tbody>\n",
       "    <tr>\n",
       "      <th>178140</th>\n",
       "      <td>2012-05-31 08:20:06</td>\n",
       "      <td>10012</td>\n",
       "      <td>1</td>\n",
       "    </tr>\n",
       "    <tr>\n",
       "      <th>59486</th>\n",
       "      <td>2012-05-31 15:47:36</td>\n",
       "      <td>3428</td>\n",
       "      <td>1</td>\n",
       "    </tr>\n",
       "    <tr>\n",
       "      <th>175638</th>\n",
       "      <td>2012-05-31 17:19:37</td>\n",
       "      <td>9899</td>\n",
       "      <td>1</td>\n",
       "    </tr>\n",
       "    <tr>\n",
       "      <th>26821</th>\n",
       "      <td>2012-05-31 21:58:33</td>\n",
       "      <td>1693</td>\n",
       "      <td>1</td>\n",
       "    </tr>\n",
       "    <tr>\n",
       "      <th>109716</th>\n",
       "      <td>2012-06-01 00:17:30</td>\n",
       "      <td>6102</td>\n",
       "      <td>1</td>\n",
       "    </tr>\n",
       "  </tbody>\n",
       "</table>\n",
       "</div>"
      ],
      "text/plain": [
       "                time_stamp  user_id  visited\n",
       "178140 2012-05-31 08:20:06    10012        1\n",
       "59486  2012-05-31 15:47:36     3428        1\n",
       "175638 2012-05-31 17:19:37     9899        1\n",
       "26821  2012-05-31 21:58:33     1693        1\n",
       "109716 2012-06-01 00:17:30     6102        1"
      ]
     },
     "execution_count": 13,
     "metadata": {},
     "output_type": "execute_result"
    }
   ],
   "source": [
    "relax_engagement = relax_engagement.sort_values(by=['time_stamp'])\n",
    "relax_engagement.head()"
   ]
  },
  {
   "cell_type": "code",
   "execution_count": 14,
   "metadata": {
    "scrolled": false
   },
   "outputs": [
    {
     "name": "stdout",
     "output_type": "stream",
     "text": [
      "<class 'pandas.core.frame.DataFrame'>\n",
      "Int64Index: 207917 entries, 178140 to 70763\n",
      "Data columns (total 3 columns):\n",
      " #   Column      Non-Null Count   Dtype         \n",
      "---  ------      --------------   -----         \n",
      " 0   time_stamp  207917 non-null  datetime64[ns]\n",
      " 1   user_id     207917 non-null  int64         \n",
      " 2   visited     207917 non-null  int64         \n",
      "dtypes: datetime64[ns](1), int64(2)\n",
      "memory usage: 6.3 MB\n"
     ]
    }
   ],
   "source": [
    "relax_engagement.info()"
   ]
  },
  {
   "cell_type": "code",
   "execution_count": 15,
   "metadata": {},
   "outputs": [
    {
     "data": {
      "text/html": [
       "<div>\n",
       "<style scoped>\n",
       "    .dataframe tbody tr th:only-of-type {\n",
       "        vertical-align: middle;\n",
       "    }\n",
       "\n",
       "    .dataframe tbody tr th {\n",
       "        vertical-align: top;\n",
       "    }\n",
       "\n",
       "    .dataframe thead th {\n",
       "        text-align: right;\n",
       "    }\n",
       "</style>\n",
       "<table border=\"1\" class=\"dataframe\">\n",
       "  <thead>\n",
       "    <tr style=\"text-align: right;\">\n",
       "      <th></th>\n",
       "      <th>week</th>\n",
       "      <th>user_id</th>\n",
       "      <th>freq</th>\n",
       "    </tr>\n",
       "  </thead>\n",
       "  <tbody>\n",
       "    <tr>\n",
       "      <th>1</th>\n",
       "      <td>1</td>\n",
       "      <td>10</td>\n",
       "      <td>5</td>\n",
       "    </tr>\n",
       "    <tr>\n",
       "      <th>2</th>\n",
       "      <td>1</td>\n",
       "      <td>42</td>\n",
       "      <td>4</td>\n",
       "    </tr>\n",
       "    <tr>\n",
       "      <th>5</th>\n",
       "      <td>1</td>\n",
       "      <td>63</td>\n",
       "      <td>7</td>\n",
       "    </tr>\n",
       "    <tr>\n",
       "      <th>6</th>\n",
       "      <td>1</td>\n",
       "      <td>69</td>\n",
       "      <td>10</td>\n",
       "    </tr>\n",
       "    <tr>\n",
       "      <th>7</th>\n",
       "      <td>1</td>\n",
       "      <td>81</td>\n",
       "      <td>3</td>\n",
       "    </tr>\n",
       "    <tr>\n",
       "      <th>...</th>\n",
       "      <td>...</td>\n",
       "      <td>...</td>\n",
       "      <td>...</td>\n",
       "    </tr>\n",
       "    <tr>\n",
       "      <th>57164</th>\n",
       "      <td>52</td>\n",
       "      <td>11939</td>\n",
       "      <td>5</td>\n",
       "    </tr>\n",
       "    <tr>\n",
       "      <th>57165</th>\n",
       "      <td>52</td>\n",
       "      <td>11957</td>\n",
       "      <td>4</td>\n",
       "    </tr>\n",
       "    <tr>\n",
       "      <th>57166</th>\n",
       "      <td>52</td>\n",
       "      <td>11959</td>\n",
       "      <td>3</td>\n",
       "    </tr>\n",
       "    <tr>\n",
       "      <th>57169</th>\n",
       "      <td>52</td>\n",
       "      <td>11969</td>\n",
       "      <td>3</td>\n",
       "    </tr>\n",
       "    <tr>\n",
       "      <th>57171</th>\n",
       "      <td>52</td>\n",
       "      <td>11975</td>\n",
       "      <td>3</td>\n",
       "    </tr>\n",
       "  </tbody>\n",
       "</table>\n",
       "<p>29771 rows × 3 columns</p>\n",
       "</div>"
      ],
      "text/plain": [
       "       week  user_id  freq\n",
       "1         1       10     5\n",
       "2         1       42     4\n",
       "5         1       63     7\n",
       "6         1       69    10\n",
       "7         1       81     3\n",
       "...     ...      ...   ...\n",
       "57164    52    11939     5\n",
       "57165    52    11957     4\n",
       "57166    52    11959     3\n",
       "57169    52    11969     3\n",
       "57171    52    11975     3\n",
       "\n",
       "[29771 rows x 3 columns]"
      ]
     },
     "execution_count": 15,
     "metadata": {},
     "output_type": "execute_result"
    }
   ],
   "source": [
    "relax_engagement['week'] = relax_engagement['time_stamp'].dt.week\n",
    "relax_engagement_2 = relax_engagement.groupby(['week','user_id'])['time_stamp'].count().reset_index(name=\"freq\")\n",
    "\n",
    "frequency = relax_engagement_2[relax_engagement_2.freq >= 3]\n",
    "frequency"
   ]
  },
  {
   "cell_type": "code",
   "execution_count": 16,
   "metadata": {},
   "outputs": [
    {
     "data": {
      "text/html": [
       "<div>\n",
       "<style scoped>\n",
       "    .dataframe tbody tr th:only-of-type {\n",
       "        vertical-align: middle;\n",
       "    }\n",
       "\n",
       "    .dataframe tbody tr th {\n",
       "        vertical-align: top;\n",
       "    }\n",
       "\n",
       "    .dataframe thead th {\n",
       "        text-align: right;\n",
       "    }\n",
       "</style>\n",
       "<table border=\"1\" class=\"dataframe\">\n",
       "  <thead>\n",
       "    <tr style=\"text-align: right;\">\n",
       "      <th></th>\n",
       "      <th>time_stamp</th>\n",
       "      <th>user_id</th>\n",
       "      <th>visited</th>\n",
       "      <th>week</th>\n",
       "      <th>year</th>\n",
       "    </tr>\n",
       "  </thead>\n",
       "  <tbody>\n",
       "    <tr>\n",
       "      <th>178140</th>\n",
       "      <td>2012-05-31 08:20:06</td>\n",
       "      <td>10012</td>\n",
       "      <td>1</td>\n",
       "      <td>22</td>\n",
       "      <td>2012</td>\n",
       "    </tr>\n",
       "    <tr>\n",
       "      <th>59486</th>\n",
       "      <td>2012-05-31 15:47:36</td>\n",
       "      <td>3428</td>\n",
       "      <td>1</td>\n",
       "      <td>22</td>\n",
       "      <td>2012</td>\n",
       "    </tr>\n",
       "    <tr>\n",
       "      <th>175638</th>\n",
       "      <td>2012-05-31 17:19:37</td>\n",
       "      <td>9899</td>\n",
       "      <td>1</td>\n",
       "      <td>22</td>\n",
       "      <td>2012</td>\n",
       "    </tr>\n",
       "    <tr>\n",
       "      <th>26821</th>\n",
       "      <td>2012-05-31 21:58:33</td>\n",
       "      <td>1693</td>\n",
       "      <td>1</td>\n",
       "      <td>22</td>\n",
       "      <td>2012</td>\n",
       "    </tr>\n",
       "    <tr>\n",
       "      <th>109716</th>\n",
       "      <td>2012-06-01 00:17:30</td>\n",
       "      <td>6102</td>\n",
       "      <td>1</td>\n",
       "      <td>22</td>\n",
       "      <td>2012</td>\n",
       "    </tr>\n",
       "  </tbody>\n",
       "</table>\n",
       "</div>"
      ],
      "text/plain": [
       "                time_stamp  user_id  visited  week  year\n",
       "178140 2012-05-31 08:20:06    10012        1    22  2012\n",
       "59486  2012-05-31 15:47:36     3428        1    22  2012\n",
       "175638 2012-05-31 17:19:37     9899        1    22  2012\n",
       "26821  2012-05-31 21:58:33     1693        1    22  2012\n",
       "109716 2012-06-01 00:17:30     6102        1    22  2012"
      ]
     },
     "execution_count": 16,
     "metadata": {},
     "output_type": "execute_result"
    }
   ],
   "source": [
    "relax_engagement['week'] = relax_engagement['time_stamp'].dt.week\n",
    "relax_engagement['year'] = relax_engagement['time_stamp'].dt.year\n",
    "relax_engagement.head()"
   ]
  },
  {
   "cell_type": "code",
   "execution_count": 17,
   "metadata": {
    "scrolled": false
   },
   "outputs": [
    {
     "data": {
      "text/html": [
       "<div>\n",
       "<style scoped>\n",
       "    .dataframe tbody tr th:only-of-type {\n",
       "        vertical-align: middle;\n",
       "    }\n",
       "\n",
       "    .dataframe tbody tr th {\n",
       "        vertical-align: top;\n",
       "    }\n",
       "\n",
       "    .dataframe thead th {\n",
       "        text-align: right;\n",
       "    }\n",
       "</style>\n",
       "<table border=\"1\" class=\"dataframe\">\n",
       "  <thead>\n",
       "    <tr style=\"text-align: right;\">\n",
       "      <th></th>\n",
       "      <th>adopted_user</th>\n",
       "    </tr>\n",
       "  </thead>\n",
       "  <tbody>\n",
       "    <tr>\n",
       "      <th>1</th>\n",
       "      <td>10</td>\n",
       "    </tr>\n",
       "    <tr>\n",
       "      <th>2</th>\n",
       "      <td>42</td>\n",
       "    </tr>\n",
       "    <tr>\n",
       "      <th>5</th>\n",
       "      <td>63</td>\n",
       "    </tr>\n",
       "    <tr>\n",
       "      <th>6</th>\n",
       "      <td>69</td>\n",
       "    </tr>\n",
       "    <tr>\n",
       "      <th>7</th>\n",
       "      <td>81</td>\n",
       "    </tr>\n",
       "    <tr>\n",
       "      <th>...</th>\n",
       "      <td>...</td>\n",
       "    </tr>\n",
       "    <tr>\n",
       "      <th>57164</th>\n",
       "      <td>11939</td>\n",
       "    </tr>\n",
       "    <tr>\n",
       "      <th>57165</th>\n",
       "      <td>11957</td>\n",
       "    </tr>\n",
       "    <tr>\n",
       "      <th>57166</th>\n",
       "      <td>11959</td>\n",
       "    </tr>\n",
       "    <tr>\n",
       "      <th>57169</th>\n",
       "      <td>11969</td>\n",
       "    </tr>\n",
       "    <tr>\n",
       "      <th>57171</th>\n",
       "      <td>11975</td>\n",
       "    </tr>\n",
       "  </tbody>\n",
       "</table>\n",
       "<p>29771 rows × 1 columns</p>\n",
       "</div>"
      ],
      "text/plain": [
       "       adopted_user\n",
       "1                10\n",
       "2                42\n",
       "5                63\n",
       "6                69\n",
       "7                81\n",
       "...             ...\n",
       "57164         11939\n",
       "57165         11957\n",
       "57166         11959\n",
       "57169         11969\n",
       "57171         11975\n",
       "\n",
       "[29771 rows x 1 columns]"
      ]
     },
     "execution_count": 17,
     "metadata": {},
     "output_type": "execute_result"
    }
   ],
   "source": [
    "# Saving a dataframe of users who logged in more than 3 times a week as adopted users\n",
    "adopted_user = frequency['user_id']\n",
    "adopted_user_df = pd.DataFrame(adopted_user,columns=['user_id'])\n",
    "adopted_user_df.rename({'user_id':'adopted_user'}, axis=1, inplace=True)  \n",
    "adopted_user_df"
   ]
  },
  {
   "cell_type": "code",
   "execution_count": 18,
   "metadata": {
    "scrolled": true
   },
   "outputs": [
    {
     "data": {
      "text/html": [
       "<div>\n",
       "<style scoped>\n",
       "    .dataframe tbody tr th:only-of-type {\n",
       "        vertical-align: middle;\n",
       "    }\n",
       "\n",
       "    .dataframe tbody tr th {\n",
       "        vertical-align: top;\n",
       "    }\n",
       "\n",
       "    .dataframe thead th {\n",
       "        text-align: right;\n",
       "    }\n",
       "</style>\n",
       "<table border=\"1\" class=\"dataframe\">\n",
       "  <thead>\n",
       "    <tr style=\"text-align: right;\">\n",
       "      <th></th>\n",
       "      <th>user_id</th>\n",
       "      <th>name</th>\n",
       "      <th>email</th>\n",
       "      <th>creation_source</th>\n",
       "      <th>last_session_creation_time</th>\n",
       "      <th>opted_in_to_mailing_list</th>\n",
       "      <th>enabled_for_marketing_drip</th>\n",
       "      <th>org_id</th>\n",
       "      <th>invited_by_user_id</th>\n",
       "      <th>adopted_user</th>\n",
       "    </tr>\n",
       "    <tr>\n",
       "      <th>creation_time</th>\n",
       "      <th></th>\n",
       "      <th></th>\n",
       "      <th></th>\n",
       "      <th></th>\n",
       "      <th></th>\n",
       "      <th></th>\n",
       "      <th></th>\n",
       "      <th></th>\n",
       "      <th></th>\n",
       "      <th></th>\n",
       "    </tr>\n",
       "  </thead>\n",
       "  <tbody>\n",
       "    <tr>\n",
       "      <th>2012-05-31 00:43:27</th>\n",
       "      <td>3861</td>\n",
       "      <td>Jensen Stine</td>\n",
       "      <td>StineAJensen@yahoo.com</td>\n",
       "      <td>ORG_INVITE</td>\n",
       "      <td>2012-06-03 00:43:27</td>\n",
       "      <td>0</td>\n",
       "      <td>0</td>\n",
       "      <td>115</td>\n",
       "      <td>3861.0</td>\n",
       "      <td>1</td>\n",
       "    </tr>\n",
       "    <tr>\n",
       "      <th>2012-05-31 01:42:31</th>\n",
       "      <td>11430</td>\n",
       "      <td>Wood Levi</td>\n",
       "      <td>LeviWood@hotmail.com</td>\n",
       "      <td>ORG_INVITE</td>\n",
       "      <td>2012-06-01 01:42:31</td>\n",
       "      <td>0</td>\n",
       "      <td>0</td>\n",
       "      <td>239</td>\n",
       "      <td>5677.0</td>\n",
       "      <td>1</td>\n",
       "    </tr>\n",
       "    <tr>\n",
       "      <th>2012-05-31 06:23:51</th>\n",
       "      <td>7170</td>\n",
       "      <td>Cavalcanti Leonardo</td>\n",
       "      <td>LeonardoPereiraCavalcanti@hotmail.com</td>\n",
       "      <td>ORG_INVITE</td>\n",
       "      <td>2012-08-20 06:23:51</td>\n",
       "      <td>0</td>\n",
       "      <td>0</td>\n",
       "      <td>145</td>\n",
       "      <td>7170.0</td>\n",
       "      <td>0</td>\n",
       "    </tr>\n",
       "    <tr>\n",
       "      <th>2012-05-31 08:20:06</th>\n",
       "      <td>10012</td>\n",
       "      <td>Spikes Danille</td>\n",
       "      <td>DanilleJSpikes@hotmail.com</td>\n",
       "      <td>ORG_INVITE</td>\n",
       "      <td>2012-05-31 08:20:06</td>\n",
       "      <td>0</td>\n",
       "      <td>1</td>\n",
       "      <td>225</td>\n",
       "      <td>7104.0</td>\n",
       "      <td>1</td>\n",
       "    </tr>\n",
       "    <tr>\n",
       "      <th>2012-05-31 11:55:59</th>\n",
       "      <td>11999</td>\n",
       "      <td>Faber Annett</td>\n",
       "      <td>mhaerzxp@iuxiw.com</td>\n",
       "      <td>PERSONAL_PROJECTS</td>\n",
       "      <td>2012-06-02 11:55:59</td>\n",
       "      <td>0</td>\n",
       "      <td>0</td>\n",
       "      <td>6</td>\n",
       "      <td>NaN</td>\n",
       "      <td>1</td>\n",
       "    </tr>\n",
       "  </tbody>\n",
       "</table>\n",
       "</div>"
      ],
      "text/plain": [
       "                     user_id                 name  \\\n",
       "creation_time                                       \n",
       "2012-05-31 00:43:27     3861         Jensen Stine   \n",
       "2012-05-31 01:42:31    11430            Wood Levi   \n",
       "2012-05-31 06:23:51     7170  Cavalcanti Leonardo   \n",
       "2012-05-31 08:20:06    10012       Spikes Danille   \n",
       "2012-05-31 11:55:59    11999         Faber Annett   \n",
       "\n",
       "                                                     email    creation_source  \\\n",
       "creation_time                                                                   \n",
       "2012-05-31 00:43:27                 StineAJensen@yahoo.com         ORG_INVITE   \n",
       "2012-05-31 01:42:31                   LeviWood@hotmail.com         ORG_INVITE   \n",
       "2012-05-31 06:23:51  LeonardoPereiraCavalcanti@hotmail.com         ORG_INVITE   \n",
       "2012-05-31 08:20:06             DanilleJSpikes@hotmail.com         ORG_INVITE   \n",
       "2012-05-31 11:55:59                     mhaerzxp@iuxiw.com  PERSONAL_PROJECTS   \n",
       "\n",
       "                    last_session_creation_time  opted_in_to_mailing_list  \\\n",
       "creation_time                                                              \n",
       "2012-05-31 00:43:27        2012-06-03 00:43:27                         0   \n",
       "2012-05-31 01:42:31        2012-06-01 01:42:31                         0   \n",
       "2012-05-31 06:23:51        2012-08-20 06:23:51                         0   \n",
       "2012-05-31 08:20:06        2012-05-31 08:20:06                         0   \n",
       "2012-05-31 11:55:59        2012-06-02 11:55:59                         0   \n",
       "\n",
       "                     enabled_for_marketing_drip  org_id  invited_by_user_id  \\\n",
       "creation_time                                                                 \n",
       "2012-05-31 00:43:27                           0     115              3861.0   \n",
       "2012-05-31 01:42:31                           0     239              5677.0   \n",
       "2012-05-31 06:23:51                           0     145              7170.0   \n",
       "2012-05-31 08:20:06                           1     225              7104.0   \n",
       "2012-05-31 11:55:59                           0       6                 NaN   \n",
       "\n",
       "                     adopted_user  \n",
       "creation_time                      \n",
       "2012-05-31 00:43:27             1  \n",
       "2012-05-31 01:42:31             1  \n",
       "2012-05-31 06:23:51             0  \n",
       "2012-05-31 08:20:06             1  \n",
       "2012-05-31 11:55:59             1  "
      ]
     },
     "execution_count": 18,
     "metadata": {},
     "output_type": "execute_result"
    }
   ],
   "source": [
    "# Creating a column adopted_user where we indicate adopted users as 1 otherwise 0\n",
    "relax_si['adopted_user'] = relax_si.user_id.apply(lambda x: 1 if x in adopted_user_df.adopted_user else 0)\n",
    "relax_si.head()"
   ]
  },
  {
   "cell_type": "code",
   "execution_count": 19,
   "metadata": {
    "scrolled": false
   },
   "outputs": [
    {
     "data": {
      "text/plain": [
       "(array([0, 1]), [Text(0, 0, '1'), Text(1, 0, '0')])"
      ]
     },
     "execution_count": 19,
     "metadata": {},
     "output_type": "execute_result"
    },
    {
     "data": {
      "image/png": "[encoded data removed]",
      "text/plain": [
       "<Figure size 1152x720 with 1 Axes>"
      ]
     },
     "metadata": {},
     "output_type": "display_data"
    }
   ],
   "source": [
    "# Visualizing adopted user count\n",
    "relax_si.adopted_user.value_counts().plot(kind=\"bar\", color=[\"skyblue\", \"firebrick\"])\n",
    "plt.title(\"Adopted User\")\n",
    "plt.xlabel(\"1 = Adopted User     0 = Not Adopted\")\n",
    "plt.ylabel(\"Total\")    \n",
    "plt.xticks(rotation=0)"
   ]
  },
  {
   "cell_type": "code",
   "execution_count": 20,
   "metadata": {
    "scrolled": false
   },
   "outputs": [
    {
     "data": {
      "text/html": [
       "<div>\n",
       "<style scoped>\n",
       "    .dataframe tbody tr th:only-of-type {\n",
       "        vertical-align: middle;\n",
       "    }\n",
       "\n",
       "    .dataframe tbody tr th {\n",
       "        vertical-align: top;\n",
       "    }\n",
       "\n",
       "    .dataframe thead th {\n",
       "        text-align: right;\n",
       "    }\n",
       "</style>\n",
       "<table border=\"1\" class=\"dataframe\">\n",
       "  <thead>\n",
       "    <tr style=\"text-align: right;\">\n",
       "      <th></th>\n",
       "      <th>user_id</th>\n",
       "      <th>name</th>\n",
       "      <th>email</th>\n",
       "      <th>creation_source</th>\n",
       "      <th>last_session_creation_time</th>\n",
       "      <th>opted_in_to_mailing_list</th>\n",
       "      <th>enabled_for_marketing_drip</th>\n",
       "      <th>org_id</th>\n",
       "      <th>invited_by_user_id</th>\n",
       "      <th>adopted_user</th>\n",
       "    </tr>\n",
       "    <tr>\n",
       "      <th>creation_time</th>\n",
       "      <th></th>\n",
       "      <th></th>\n",
       "      <th></th>\n",
       "      <th></th>\n",
       "      <th></th>\n",
       "      <th></th>\n",
       "      <th></th>\n",
       "      <th></th>\n",
       "      <th></th>\n",
       "      <th></th>\n",
       "    </tr>\n",
       "  </thead>\n",
       "  <tbody>\n",
       "    <tr>\n",
       "      <th>2012-05-31 00:43:27</th>\n",
       "      <td>3861</td>\n",
       "      <td>Jensen Stine</td>\n",
       "      <td>StineAJensen@yahoo.com</td>\n",
       "      <td>ORG_INVITE</td>\n",
       "      <td>2012-06</td>\n",
       "      <td>0</td>\n",
       "      <td>0</td>\n",
       "      <td>115</td>\n",
       "      <td>3861.0</td>\n",
       "      <td>1</td>\n",
       "    </tr>\n",
       "    <tr>\n",
       "      <th>2012-05-31 01:42:31</th>\n",
       "      <td>11430</td>\n",
       "      <td>Wood Levi</td>\n",
       "      <td>LeviWood@hotmail.com</td>\n",
       "      <td>ORG_INVITE</td>\n",
       "      <td>2012-06</td>\n",
       "      <td>0</td>\n",
       "      <td>0</td>\n",
       "      <td>239</td>\n",
       "      <td>5677.0</td>\n",
       "      <td>1</td>\n",
       "    </tr>\n",
       "    <tr>\n",
       "      <th>2012-05-31 08:20:06</th>\n",
       "      <td>10012</td>\n",
       "      <td>Spikes Danille</td>\n",
       "      <td>DanilleJSpikes@hotmail.com</td>\n",
       "      <td>ORG_INVITE</td>\n",
       "      <td>2012-05</td>\n",
       "      <td>0</td>\n",
       "      <td>1</td>\n",
       "      <td>225</td>\n",
       "      <td>7104.0</td>\n",
       "      <td>1</td>\n",
       "    </tr>\n",
       "    <tr>\n",
       "      <th>2012-05-31 11:55:59</th>\n",
       "      <td>11999</td>\n",
       "      <td>Faber Annett</td>\n",
       "      <td>mhaerzxp@iuxiw.com</td>\n",
       "      <td>PERSONAL_PROJECTS</td>\n",
       "      <td>2012-06</td>\n",
       "      <td>0</td>\n",
       "      <td>0</td>\n",
       "      <td>6</td>\n",
       "      <td>NaN</td>\n",
       "      <td>1</td>\n",
       "    </tr>\n",
       "    <tr>\n",
       "      <th>2012-05-31 13:14:18</th>\n",
       "      <td>1995</td>\n",
       "      <td>Cardoso Rafaela</td>\n",
       "      <td>RafaelaAzevedoCardoso@hotmail.com</td>\n",
       "      <td>ORG_INVITE</td>\n",
       "      <td>2012-06</td>\n",
       "      <td>1</td>\n",
       "      <td>0</td>\n",
       "      <td>363</td>\n",
       "      <td>1995.0</td>\n",
       "      <td>1</td>\n",
       "    </tr>\n",
       "  </tbody>\n",
       "</table>\n",
       "</div>"
      ],
      "text/plain": [
       "                     user_id             name  \\\n",
       "creation_time                                   \n",
       "2012-05-31 00:43:27     3861     Jensen Stine   \n",
       "2012-05-31 01:42:31    11430        Wood Levi   \n",
       "2012-05-31 08:20:06    10012   Spikes Danille   \n",
       "2012-05-31 11:55:59    11999     Faber Annett   \n",
       "2012-05-31 13:14:18     1995  Cardoso Rafaela   \n",
       "\n",
       "                                                 email    creation_source  \\\n",
       "creation_time                                                               \n",
       "2012-05-31 00:43:27             StineAJensen@yahoo.com         ORG_INVITE   \n",
       "2012-05-31 01:42:31               LeviWood@hotmail.com         ORG_INVITE   \n",
       "2012-05-31 08:20:06         DanilleJSpikes@hotmail.com         ORG_INVITE   \n",
       "2012-05-31 11:55:59                 mhaerzxp@iuxiw.com  PERSONAL_PROJECTS   \n",
       "2012-05-31 13:14:18  RafaelaAzevedoCardoso@hotmail.com         ORG_INVITE   \n",
       "\n",
       "                    last_session_creation_time  opted_in_to_mailing_list  \\\n",
       "creation_time                                                              \n",
       "2012-05-31 00:43:27                    2012-06                         0   \n",
       "2012-05-31 01:42:31                    2012-06                         0   \n",
       "2012-05-31 08:20:06                    2012-05                         0   \n",
       "2012-05-31 11:55:59                    2012-06                         0   \n",
       "2012-05-31 13:14:18                    2012-06                         1   \n",
       "\n",
       "                     enabled_for_marketing_drip  org_id  invited_by_user_id  \\\n",
       "creation_time                                                                 \n",
       "2012-05-31 00:43:27                           0     115              3861.0   \n",
       "2012-05-31 01:42:31                           0     239              5677.0   \n",
       "2012-05-31 08:20:06                           1     225              7104.0   \n",
       "2012-05-31 11:55:59                           0       6                 NaN   \n",
       "2012-05-31 13:14:18                           0     363              1995.0   \n",
       "\n",
       "                     adopted_user  \n",
       "creation_time                      \n",
       "2012-05-31 00:43:27             1  \n",
       "2012-05-31 01:42:31             1  \n",
       "2012-05-31 08:20:06             1  \n",
       "2012-05-31 11:55:59             1  \n",
       "2012-05-31 13:14:18             1  "
      ]
     },
     "execution_count": 20,
     "metadata": {},
     "output_type": "execute_result"
    }
   ],
   "source": [
    "adopted_df = relax_si[relax_si['adopted_user'] == 1]\n",
    "adopted_df['last_session_creation_time'] = adopted_df['last_session_creation_time'].dt.to_period('M')\n",
    "adopted_df.head()"
   ]
  },
  {
   "cell_type": "code",
   "execution_count": 21,
   "metadata": {
    "scrolled": false
   },
   "outputs": [
    {
     "data": {
      "text/plain": [
       "<AxesSubplot:xlabel='creation_source', ylabel='count'>"
      ]
     },
     "execution_count": 21,
     "metadata": {},
     "output_type": "execute_result"
    },
    {
     "data": {
      "image/png": "[encoded data removed]",
      "text/plain": [
       "<Figure size 1152x720 with 1 Axes>"
      ]
     },
     "metadata": {},
     "output_type": "display_data"
    }
   ],
   "source": [
    "# Visualizing count of creation_source who are adopted users\n",
    "sns.countplot(x='creation_source', data = adopted_df)"
   ]
  },
  {
   "cell_type": "code",
   "execution_count": 22,
   "metadata": {
    "scrolled": false
   },
   "outputs": [
    {
     "data": {
      "image/png": "[encoded data removed]",
      "text/plain": [
       "<Figure size 1152x720 with 1 Axes>"
      ]
     },
     "metadata": {},
     "output_type": "display_data"
    }
   ],
   "source": [
    "# Visualizing count of last_session_creation_time who are adopted users\n",
    "sns.countplot(x='last_session_creation_time', data = adopted_df)\n",
    "plt.xticks(\n",
    "    rotation=45, \n",
    "    horizontalalignment='right',\n",
    "    fontweight='light',\n",
    "    fontsize='small'  \n",
    ");\n"
   ]
  },
  {
   "cell_type": "markdown",
   "metadata": {},
   "source": [
    "#### Prepping dataframe for predictive modeling "
   ]
  },
  {
   "cell_type": "code",
   "execution_count": 23,
   "metadata": {
    "scrolled": false
   },
   "outputs": [
    {
     "data": {
      "text/html": [
       "<div>\n",
       "<style scoped>\n",
       "    .dataframe tbody tr th:only-of-type {\n",
       "        vertical-align: middle;\n",
       "    }\n",
       "\n",
       "    .dataframe tbody tr th {\n",
       "        vertical-align: top;\n",
       "    }\n",
       "\n",
       "    .dataframe thead th {\n",
       "        text-align: right;\n",
       "    }\n",
       "</style>\n",
       "<table border=\"1\" class=\"dataframe\">\n",
       "  <thead>\n",
       "    <tr style=\"text-align: right;\">\n",
       "      <th></th>\n",
       "      <th>user_id</th>\n",
       "      <th>name</th>\n",
       "      <th>email</th>\n",
       "      <th>last_session_creation_time</th>\n",
       "      <th>opted_in_to_mailing_list</th>\n",
       "      <th>enabled_for_marketing_drip</th>\n",
       "      <th>org_id</th>\n",
       "      <th>invited_by_user_id</th>\n",
       "      <th>adopted_user</th>\n",
       "      <th>creation_source_GUEST_INVITE</th>\n",
       "      <th>creation_source_ORG_INVITE</th>\n",
       "      <th>creation_source_PERSONAL_PROJECTS</th>\n",
       "      <th>creation_source_SIGNUP</th>\n",
       "      <th>creation_source_SIGNUP_GOOGLE_AUTH</th>\n",
       "    </tr>\n",
       "    <tr>\n",
       "      <th>creation_time</th>\n",
       "      <th></th>\n",
       "      <th></th>\n",
       "      <th></th>\n",
       "      <th></th>\n",
       "      <th></th>\n",
       "      <th></th>\n",
       "      <th></th>\n",
       "      <th></th>\n",
       "      <th></th>\n",
       "      <th></th>\n",
       "      <th></th>\n",
       "      <th></th>\n",
       "      <th></th>\n",
       "      <th></th>\n",
       "    </tr>\n",
       "  </thead>\n",
       "  <tbody>\n",
       "    <tr>\n",
       "      <th>2012-05-31 00:43:27</th>\n",
       "      <td>3861</td>\n",
       "      <td>Jensen Stine</td>\n",
       "      <td>StineAJensen@yahoo.com</td>\n",
       "      <td>6</td>\n",
       "      <td>0</td>\n",
       "      <td>0</td>\n",
       "      <td>115</td>\n",
       "      <td>3861.0</td>\n",
       "      <td>1</td>\n",
       "      <td>0</td>\n",
       "      <td>1</td>\n",
       "      <td>0</td>\n",
       "      <td>0</td>\n",
       "      <td>0</td>\n",
       "    </tr>\n",
       "    <tr>\n",
       "      <th>2012-05-31 01:42:31</th>\n",
       "      <td>11430</td>\n",
       "      <td>Wood Levi</td>\n",
       "      <td>LeviWood@hotmail.com</td>\n",
       "      <td>6</td>\n",
       "      <td>0</td>\n",
       "      <td>0</td>\n",
       "      <td>239</td>\n",
       "      <td>5677.0</td>\n",
       "      <td>1</td>\n",
       "      <td>0</td>\n",
       "      <td>1</td>\n",
       "      <td>0</td>\n",
       "      <td>0</td>\n",
       "      <td>0</td>\n",
       "    </tr>\n",
       "    <tr>\n",
       "      <th>2012-05-31 06:23:51</th>\n",
       "      <td>7170</td>\n",
       "      <td>Cavalcanti Leonardo</td>\n",
       "      <td>LeonardoPereiraCavalcanti@hotmail.com</td>\n",
       "      <td>8</td>\n",
       "      <td>0</td>\n",
       "      <td>0</td>\n",
       "      <td>145</td>\n",
       "      <td>7170.0</td>\n",
       "      <td>0</td>\n",
       "      <td>0</td>\n",
       "      <td>1</td>\n",
       "      <td>0</td>\n",
       "      <td>0</td>\n",
       "      <td>0</td>\n",
       "    </tr>\n",
       "    <tr>\n",
       "      <th>2012-05-31 08:20:06</th>\n",
       "      <td>10012</td>\n",
       "      <td>Spikes Danille</td>\n",
       "      <td>DanilleJSpikes@hotmail.com</td>\n",
       "      <td>5</td>\n",
       "      <td>0</td>\n",
       "      <td>1</td>\n",
       "      <td>225</td>\n",
       "      <td>7104.0</td>\n",
       "      <td>1</td>\n",
       "      <td>0</td>\n",
       "      <td>1</td>\n",
       "      <td>0</td>\n",
       "      <td>0</td>\n",
       "      <td>0</td>\n",
       "    </tr>\n",
       "    <tr>\n",
       "      <th>2012-05-31 13:14:18</th>\n",
       "      <td>1995</td>\n",
       "      <td>Cardoso Rafaela</td>\n",
       "      <td>RafaelaAzevedoCardoso@hotmail.com</td>\n",
       "      <td>6</td>\n",
       "      <td>1</td>\n",
       "      <td>0</td>\n",
       "      <td>363</td>\n",
       "      <td>1995.0</td>\n",
       "      <td>1</td>\n",
       "      <td>0</td>\n",
       "      <td>1</td>\n",
       "      <td>0</td>\n",
       "      <td>0</td>\n",
       "      <td>0</td>\n",
       "    </tr>\n",
       "  </tbody>\n",
       "</table>\n",
       "</div>"
      ],
      "text/plain": [
       "                     user_id                 name  \\\n",
       "creation_time                                       \n",
       "2012-05-31 00:43:27     3861         Jensen Stine   \n",
       "2012-05-31 01:42:31    11430            Wood Levi   \n",
       "2012-05-31 06:23:51     7170  Cavalcanti Leonardo   \n",
       "2012-05-31 08:20:06    10012       Spikes Danille   \n",
       "2012-05-31 13:14:18     1995      Cardoso Rafaela   \n",
       "\n",
       "                                                     email  \\\n",
       "creation_time                                                \n",
       "2012-05-31 00:43:27                 StineAJensen@yahoo.com   \n",
       "2012-05-31 01:42:31                   LeviWood@hotmail.com   \n",
       "2012-05-31 06:23:51  LeonardoPereiraCavalcanti@hotmail.com   \n",
       "2012-05-31 08:20:06             DanilleJSpikes@hotmail.com   \n",
       "2012-05-31 13:14:18      RafaelaAzevedoCardoso@hotmail.com   \n",
       "\n",
       "                     last_session_creation_time  opted_in_to_mailing_list  \\\n",
       "creation_time                                                               \n",
       "2012-05-31 00:43:27                           6                         0   \n",
       "2012-05-31 01:42:31                           6                         0   \n",
       "2012-05-31 06:23:51                           8                         0   \n",
       "2012-05-31 08:20:06                           5                         0   \n",
       "2012-05-31 13:14:18                           6                         1   \n",
       "\n",
       "                     enabled_for_marketing_drip  org_id  invited_by_user_id  \\\n",
       "creation_time                                                                 \n",
       "2012-05-31 00:43:27                           0     115              3861.0   \n",
       "2012-05-31 01:42:31                           0     239              5677.0   \n",
       "2012-05-31 06:23:51                           0     145              7170.0   \n",
       "2012-05-31 08:20:06                           1     225              7104.0   \n",
       "2012-05-31 13:14:18                           0     363              1995.0   \n",
       "\n",
       "                     adopted_user  creation_source_GUEST_INVITE  \\\n",
       "creation_time                                                     \n",
       "2012-05-31 00:43:27             1                             0   \n",
       "2012-05-31 01:42:31             1                             0   \n",
       "2012-05-31 06:23:51             0                             0   \n",
       "2012-05-31 08:20:06             1                             0   \n",
       "2012-05-31 13:14:18             1                             0   \n",
       "\n",
       "                     creation_source_ORG_INVITE  \\\n",
       "creation_time                                     \n",
       "2012-05-31 00:43:27                           1   \n",
       "2012-05-31 01:42:31                           1   \n",
       "2012-05-31 06:23:51                           1   \n",
       "2012-05-31 08:20:06                           1   \n",
       "2012-05-31 13:14:18                           1   \n",
       "\n",
       "                     creation_source_PERSONAL_PROJECTS  \\\n",
       "creation_time                                            \n",
       "2012-05-31 00:43:27                                  0   \n",
       "2012-05-31 01:42:31                                  0   \n",
       "2012-05-31 06:23:51                                  0   \n",
       "2012-05-31 08:20:06                                  0   \n",
       "2012-05-31 13:14:18                                  0   \n",
       "\n",
       "                     creation_source_SIGNUP  \\\n",
       "creation_time                                 \n",
       "2012-05-31 00:43:27                       0   \n",
       "2012-05-31 01:42:31                       0   \n",
       "2012-05-31 06:23:51                       0   \n",
       "2012-05-31 08:20:06                       0   \n",
       "2012-05-31 13:14:18                       0   \n",
       "\n",
       "                     creation_source_SIGNUP_GOOGLE_AUTH  \n",
       "creation_time                                            \n",
       "2012-05-31 00:43:27                                   0  \n",
       "2012-05-31 01:42:31                                   0  \n",
       "2012-05-31 06:23:51                                   0  \n",
       "2012-05-31 08:20:06                                   0  \n",
       "2012-05-31 13:14:18                                   0  "
      ]
     },
     "execution_count": 23,
     "metadata": {},
     "output_type": "execute_result"
    }
   ],
   "source": [
    "# Creating dummy variables and changing last_session_creation_time to months only\n",
    "relax_prep = pd.get_dummies(relax_si, columns=['creation_source']).dropna()\n",
    "relax_prep['last_session_creation_time'] = relax_prep['last_session_creation_time'].dt.month \n",
    "relax_prep.head()"
   ]
  },
  {
   "cell_type": "markdown",
   "metadata": {},
   "source": [
    "#### Setting up feature and target variables"
   ]
  },
  {
   "cell_type": "code",
   "execution_count": 24,
   "metadata": {},
   "outputs": [],
   "source": [
    "# Feature variables\n",
    "X = relax_prep.drop(['name', 'email', 'adopted_user'], axis=1)\n",
    "\n",
    "# Target variable\n",
    "y = relax_prep.adopted_user"
   ]
  },
  {
   "cell_type": "code",
   "execution_count": 25,
   "metadata": {},
   "outputs": [],
   "source": [
    "# Random seed for reproducibility\n",
    "np.random.seed(7)\n",
    "\n",
    "# Split into train & test set\n",
    "X_train, X_test, y_train, y_test = train_test_split(X, y, test_size = 0.2)"
   ]
  },
  {
   "cell_type": "markdown",
   "metadata": {},
   "source": [
    "Since this is a classification problem we will try Logistic Regression, K-Nearest Neighbors and Random Forest algorithm to see which will perform best."
   ]
  },
  {
   "cell_type": "code",
   "execution_count": 26,
   "metadata": {},
   "outputs": [],
   "source": [
    "# Put models in a dictionary\n",
    "models = {\"KNN\": KNeighborsClassifier(),\n",
    "          \"Logistic Regression\": LogisticRegression(), \n",
    "          \"Random Forest\": RandomForestClassifier()}\n",
    "\n",
    "# Create function to fit and score models\n",
    "def fit_and_score(models, X_train, X_test, y_train, y_test):\n",
    "    \"\"\"\n",
    "    Fits and evaluates given machine learning models.\n",
    "    models : a dict of different Scikit-Learn machine learning models\n",
    "    X_train : training data\n",
    "    X_test : testing data\n",
    "    y_train : labels assosciated with training data\n",
    "    y_test : labels assosciated with test data\n",
    "    \"\"\"\n",
    "    # Random seed for reproducible results\n",
    "    np.random.seed(7)\n",
    "    # Make a list to keep model scores\n",
    "    model_scores = {}\n",
    "    # Loop through models\n",
    "    for name, model in models.items():\n",
    "        # Fit the model to the data\n",
    "        model.fit(X_train, y_train)\n",
    "        # Evaluate the model and append its score to model_scores\n",
    "        model_scores[name] = model.score(X_test, y_test)\n",
    "    return model_scores"
   ]
  },
  {
   "cell_type": "code",
   "execution_count": 27,
   "metadata": {
    "scrolled": true
   },
   "outputs": [
    {
     "data": {
      "text/plain": [
       "{'KNN': 0.5156903765690377,\n",
       " 'Logistic Regression': 0.5209205020920502,\n",
       " 'Random Forest': 0.502092050209205}"
      ]
     },
     "execution_count": 27,
     "metadata": {},
     "output_type": "execute_result"
    }
   ],
   "source": [
    "model_scores = fit_and_score(models=models,\n",
    "                             X_train=X_train,\n",
    "                             X_test=X_test,\n",
    "                             y_train=y_train,\n",
    "                             y_test=y_test)\n",
    "model_scores"
   ]
  },
  {
   "cell_type": "markdown",
   "metadata": {},
   "source": [
    "Logistic Regression is the winner with a score of 52% but not really beating the other models by very much.  Let's see if we could make these better with better parameters"
   ]
  },
  {
   "cell_type": "markdown",
   "metadata": {},
   "source": [
    "#### Finding KNN optimal parameters"
   ]
  },
  {
   "cell_type": "code",
   "execution_count": 28,
   "metadata": {},
   "outputs": [],
   "source": [
    "# Create a list of train scores\n",
    "train_scores = []\n",
    "\n",
    "# Create a list of test scores\n",
    "test_scores = []\n",
    "\n",
    "# Create a list of different values for n_neighbors\n",
    "neighbors = range(1, 21) # 1 to 20\n",
    "\n",
    "# Setup algorithm\n",
    "knn = KNeighborsClassifier()\n",
    "\n",
    "# Loop through different neighbors values\n",
    "for i in neighbors:\n",
    "    knn.set_params(n_neighbors = i) # set neighbors value\n",
    "    \n",
    "    # Fit the algorithm\n",
    "    knn.fit(X_train, y_train)\n",
    "    \n",
    "    # Update the training scores\n",
    "    train_scores.append(knn.score(X_train, y_train))\n",
    "    \n",
    "    # Update the test scores\n",
    "    test_scores.append(knn.score(X_test, y_test))"
   ]
  },
  {
   "cell_type": "code",
   "execution_count": 29,
   "metadata": {
    "scrolled": false
   },
   "outputs": [
    {
     "name": "stdout",
     "output_type": "stream",
     "text": [
      "Maximum KNN score on the test data: 53.14%\n"
     ]
    },
    {
     "data": {
      "image/png": "[encoded data removed]",
      "text/plain": [
       "<Figure size 1152x720 with 1 Axes>"
      ]
     },
     "metadata": {},
     "output_type": "display_data"
    }
   ],
   "source": [
    "plt.plot(neighbors, train_scores, label=\"Train score\")\n",
    "plt.plot(neighbors, test_scores, label=\"Test score\")\n",
    "plt.xticks(np.arange(1, 21, 1))\n",
    "plt.xlabel(\"Number of neighbors\")\n",
    "plt.ylabel(\"Model score\")\n",
    "plt.legend()\n",
    "\n",
    "print(f\"Maximum KNN score on the test data: {max(test_scores)*100:.2f}%\")"
   ]
  },
  {
   "cell_type": "markdown",
   "metadata": {},
   "source": [
    "We see that max score is 53.14% at n_neighbors = 1. This is the highest so far."
   ]
  },
  {
   "cell_type": "markdown",
   "metadata": {},
   "source": [
    "#### Let's experiment and see if different hyperparameters will give a better result for Logistic Regression and Random Forest"
   ]
  },
  {
   "cell_type": "code",
   "execution_count": 30,
   "metadata": {},
   "outputs": [],
   "source": [
    "# Different LogisticRegression hyperparameters\n",
    "log_reg_grid = {\"C\": np.logspace(-4, 4, 20),\n",
    "                \"solver\": [\"liblinear\"]}\n",
    "\n",
    "# Different RandomForestClassifier hyperparameters\n",
    "rf_grid = {\"n_estimators\": np.arange(10, 1000, 50),\n",
    "           \"max_depth\": [None, 3, 5, 10],\n",
    "           \"min_samples_split\": np.arange(2, 20, 2),\n",
    "           \"min_samples_leaf\": np.arange(1, 20, 2)}"
   ]
  },
  {
   "cell_type": "code",
   "execution_count": 31,
   "metadata": {},
   "outputs": [
    {
     "name": "stdout",
     "output_type": "stream",
     "text": [
      "Fitting 5 folds for each of 20 candidates, totalling 100 fits\n"
     ]
    },
    {
     "name": "stderr",
     "output_type": "stream",
     "text": [
      "[Parallel(n_jobs=1)]: Using backend SequentialBackend with 1 concurrent workers.\n",
      "[Parallel(n_jobs=1)]: Done 100 out of 100 | elapsed:    1.7s finished\n"
     ]
    }
   ],
   "source": [
    "# Setup random seed\n",
    "np.random.seed(7)\n",
    "\n",
    "# Setup random hyperparameter search for LogisticRegression\n",
    "rs_log_reg = RandomizedSearchCV(LogisticRegression(),\n",
    "                                param_distributions=log_reg_grid,\n",
    "                                cv=5,\n",
    "                                n_iter=20,\n",
    "                                verbose=True)\n",
    "\n",
    "# Fit random hyperparameter search model\n",
    "rs_log_reg.fit(X_train, y_train);"
   ]
  },
  {
   "cell_type": "code",
   "execution_count": 32,
   "metadata": {},
   "outputs": [
    {
     "data": {
      "text/plain": [
       "{'solver': 'liblinear', 'C': 0.0001}"
      ]
     },
     "execution_count": 32,
     "metadata": {},
     "output_type": "execute_result"
    }
   ],
   "source": [
    "rs_log_reg.best_params_"
   ]
  },
  {
   "cell_type": "code",
   "execution_count": 33,
   "metadata": {},
   "outputs": [
    {
     "name": "stdout",
     "output_type": "stream",
     "text": [
      "Maximum Logistic Regression score on the test data: 53.77%\n"
     ]
    }
   ],
   "source": [
    "lg_test_scores = rs_log_reg.score(X_test, y_test)\n",
    "\n",
    "print(f\"Maximum Logistic Regression score on the test data: {(lg_test_scores)*100:.2f}%\")"
   ]
  },
  {
   "cell_type": "markdown",
   "metadata": {},
   "source": [
    "Logistic Regression is back on top with 53.77% with better hyperparameters.  Let's see if we can improve on Random Forest."
   ]
  },
  {
   "cell_type": "code",
   "execution_count": 34,
   "metadata": {},
   "outputs": [
    {
     "name": "stdout",
     "output_type": "stream",
     "text": [
      "Fitting 5 folds for each of 20 candidates, totalling 100 fits\n"
     ]
    },
    {
     "name": "stderr",
     "output_type": "stream",
     "text": [
      "[Parallel(n_jobs=1)]: Using backend SequentialBackend with 1 concurrent workers.\n",
      "[Parallel(n_jobs=1)]: Done 100 out of 100 | elapsed:  3.7min finished\n"
     ]
    }
   ],
   "source": [
    "# Setup random seed\n",
    "np.random.seed(7)\n",
    "\n",
    "# Setup random hyperparameter search for RandomForestClassifier\n",
    "rs_rf = RandomizedSearchCV(RandomForestClassifier(),\n",
    "                           param_distributions=rf_grid,\n",
    "                           cv=5,\n",
    "                           n_iter=20,\n",
    "                           verbose=True)\n",
    "\n",
    "# Fit random hyperparameter search model\n",
    "rs_rf.fit(X_train, y_train);"
   ]
  },
  {
   "cell_type": "code",
   "execution_count": 35,
   "metadata": {},
   "outputs": [
    {
     "data": {
      "text/plain": [
       "{'n_estimators': 510,\n",
       " 'min_samples_split': 4,\n",
       " 'min_samples_leaf': 9,\n",
       " 'max_depth': 3}"
      ]
     },
     "execution_count": 35,
     "metadata": {},
     "output_type": "execute_result"
    }
   ],
   "source": [
    "# Find the best parameters\n",
    "rs_rf.best_params_"
   ]
  },
  {
   "cell_type": "code",
   "execution_count": 36,
   "metadata": {},
   "outputs": [
    {
     "name": "stdout",
     "output_type": "stream",
     "text": [
      "Maximum Random Forest score on the test data: 53.66%\n"
     ]
    }
   ],
   "source": [
    "# Evaluate the randomized search random forest model\n",
    "rf_test_scores = rs_rf.score(X_test, y_test)\n",
    "\n",
    "print(f\"Maximum Random Forest score on the test data: {(rf_test_scores)*100:.2f}%\")"
   ]
  },
  {
   "cell_type": "markdown",
   "metadata": {},
   "source": [
    "#### Using Gridsearch to Find the Best Hyperparameters"
   ]
  },
  {
   "cell_type": "code",
   "execution_count": 37,
   "metadata": {},
   "outputs": [
    {
     "name": "stdout",
     "output_type": "stream",
     "text": [
      "Fitting 5 folds for each of 20 candidates, totalling 100 fits\n"
     ]
    },
    {
     "name": "stderr",
     "output_type": "stream",
     "text": [
      "[Parallel(n_jobs=1)]: Using backend SequentialBackend with 1 concurrent workers.\n",
      "[Parallel(n_jobs=1)]: Done 100 out of 100 | elapsed:    1.4s finished\n"
     ]
    }
   ],
   "source": [
    "# Different LogisticRegression hyperparameters\n",
    "log_reg_grid = {\"C\": np.logspace(-4, 4, 20),\n",
    "                \"solver\": [\"liblinear\"]}\n",
    "\n",
    "# Setup grid hyperparameter search for LogisticRegression\n",
    "gs_log_reg = GridSearchCV(LogisticRegression(),\n",
    "                          param_grid=log_reg_grid,\n",
    "                          cv=5,\n",
    "                          verbose=True)\n",
    "\n",
    "# Fit grid hyperparameter search model\n",
    "gs_log_reg.fit(X_train, y_train);"
   ]
  },
  {
   "cell_type": "code",
   "execution_count": 38,
   "metadata": {},
   "outputs": [
    {
     "data": {
      "text/plain": [
       "{'C': 0.0001, 'solver': 'liblinear'}"
      ]
     },
     "execution_count": 38,
     "metadata": {},
     "output_type": "execute_result"
    }
   ],
   "source": [
    "# Check the best parameters\n",
    "gs_log_reg.best_params_"
   ]
  },
  {
   "cell_type": "code",
   "execution_count": 39,
   "metadata": {},
   "outputs": [
    {
     "data": {
      "text/plain": [
       "0.5376569037656904"
      ]
     },
     "execution_count": 39,
     "metadata": {},
     "output_type": "execute_result"
    }
   ],
   "source": [
    "# Evaluate the model\n",
    "gs_log_reg.score(X_test, y_test)"
   ]
  },
  {
   "cell_type": "markdown",
   "metadata": {},
   "source": [
    "Our score hasn't improved any more.  Let's check ROC and Confusion Matrix"
   ]
  },
  {
   "cell_type": "code",
   "execution_count": 40,
   "metadata": {
    "scrolled": false
   },
   "outputs": [
    {
     "data": {
      "image/png": "[encoded data removed]",
      "text/plain": [
       "<Figure size 1152x720 with 1 Axes>"
      ]
     },
     "metadata": {},
     "output_type": "display_data"
    }
   ],
   "source": [
    "# Import ROC curve function from metrics module\n",
    "from sklearn.metrics import plot_roc_curve\n",
    "\n",
    "# Plot ROC curve and calculate AUC metric\n",
    "plot_roc_curve(gs_log_reg, X_test, y_test);"
   ]
  },
  {
   "cell_type": "code",
   "execution_count": 41,
   "metadata": {},
   "outputs": [],
   "source": [
    "y_preds = gs_log_reg.predict(X_test)"
   ]
  },
  {
   "cell_type": "code",
   "execution_count": 42,
   "metadata": {},
   "outputs": [
    {
     "name": "stdout",
     "output_type": "stream",
     "text": [
      "[[  3 433]\n",
      " [  9 511]]\n"
     ]
    }
   ],
   "source": [
    "# Display confusion matrix\n",
    "print(confusion_matrix(y_test, y_preds))"
   ]
  },
  {
   "cell_type": "code",
   "execution_count": 43,
   "metadata": {
    "scrolled": true
   },
   "outputs": [
    {
     "data": {
      "image/png": "[encoded data removed]",
      "text/plain": [
       "<Figure size 1152x720 with 1 Axes>"
      ]
     },
     "metadata": {},
     "output_type": "display_data"
    }
   ],
   "source": [
    "# Import Seaborn\n",
    "import seaborn as sns\n",
    "sns.set(font_scale=1.5) # Increase font size\n",
    "\n",
    "def plot_conf_mat(y_test, y_preds):\n",
    "    \"\"\"\n",
    "    Plots a confusion matrix using Seaborn's heatmap().\n",
    "    \"\"\"\n",
    "    fig, ax = plt.subplots()\n",
    "    ax = sns.heatmap(confusion_matrix(y_test, y_preds),\n",
    "                     annot=True, # Annotate the boxes\n",
    "                     cbar=False)\n",
    "    plt.xlabel(\"predicted label\")\n",
    "    plt.ylabel(\"true label\")\n",
    "    \n",
    "plot_conf_mat(y_test, y_preds)"
   ]
  },
  {
   "cell_type": "markdown",
   "metadata": {},
   "source": [
    "It seems that Logistic Regression fairs the best through different cross validation test.  We do our final cross validation scores."
   ]
  },
  {
   "cell_type": "code",
   "execution_count": 44,
   "metadata": {},
   "outputs": [],
   "source": [
    "# Import cross_val_score\n",
    "from sklearn.model_selection import cross_val_score\n",
    "\n",
    "# Instantiate best model with best hyperparameters (found with GridSearchCV)\n",
    "clf = LogisticRegression(C=0.0001,\n",
    "                         solver=\"liblinear\")"
   ]
  },
  {
   "cell_type": "code",
   "execution_count": 45,
   "metadata": {},
   "outputs": [],
   "source": [
    "# Fit an instance of LogisticRegression (taken from above)\n",
    "clf.fit(X_train, y_train);\n",
    "# Fit an instance of LogisticRegression (taken from above)\n",
    "clf.fit(X_train, y_train);"
   ]
  },
  {
   "cell_type": "code",
   "execution_count": 46,
   "metadata": {},
   "outputs": [
    {
     "data": {
      "text/plain": [
       "array([0.5376569 , 0.52984293, 0.53926702, 0.54136126, 0.53717277])"
      ]
     },
     "execution_count": 46,
     "metadata": {},
     "output_type": "execute_result"
    }
   ],
   "source": [
    "# Cross-validated accuracy score\n",
    "cv_acc = cross_val_score(clf, X, y,\n",
    "                         cv=5, # 5-fold cross-validation\n",
    "                         scoring=\"accuracy\") # accuracy as scoring\n",
    "cv_acc\n"
   ]
  },
  {
   "cell_type": "code",
   "execution_count": 47,
   "metadata": {},
   "outputs": [
    {
     "data": {
      "text/plain": [
       "0.5370601765646563"
      ]
     },
     "execution_count": 47,
     "metadata": {},
     "output_type": "execute_result"
    }
   ],
   "source": [
    "cv_acc = np.mean(cv_acc)\n",
    "cv_acc"
   ]
  },
  {
   "cell_type": "code",
   "execution_count": 48,
   "metadata": {},
   "outputs": [
    {
     "data": {
      "text/plain": [
       "0.5389864496047209"
      ]
     },
     "execution_count": 48,
     "metadata": {},
     "output_type": "execute_result"
    }
   ],
   "source": [
    "# Cross-validated precision score\n",
    "cv_precision = np.mean(cross_val_score(clf, X, y,\n",
    "                                       cv=5, # 5-fold cross-validation\n",
    "                                       scoring=\"precision\")) # precision as scoring\n",
    "cv_precision"
   ]
  },
  {
   "cell_type": "code",
   "execution_count": 49,
   "metadata": {},
   "outputs": [
    {
     "data": {
      "text/plain": [
       "0.9790313840596072"
      ]
     },
     "execution_count": 49,
     "metadata": {},
     "output_type": "execute_result"
    }
   ],
   "source": [
    "# Cross-validated recall score\n",
    "cv_recall = np.mean(cross_val_score(clf, X, y,\n",
    "                                    cv=5, # 5-fold cross-validation\n",
    "                                    scoring=\"recall\")) # recall as scoring\n",
    "cv_recall"
   ]
  },
  {
   "cell_type": "code",
   "execution_count": 50,
   "metadata": {},
   "outputs": [
    {
     "data": {
      "text/plain": [
       "0.6950141953380973"
      ]
     },
     "execution_count": 50,
     "metadata": {},
     "output_type": "execute_result"
    }
   ],
   "source": [
    "# Cross-validated F1 score\n",
    "cv_f1 = np.mean(cross_val_score(clf, X, y,\n",
    "                                cv=5, # 5-fold cross-validation\n",
    "                                scoring=\"f1\")) # f1 as scoring\n",
    "cv_f1"
   ]
  },
  {
   "cell_type": "code",
   "execution_count": 51,
   "metadata": {},
   "outputs": [
    {
     "data": {
      "image/png": "[encoded data removed]",
      "text/plain": [
       "<Figure size 1152x720 with 1 Axes>"
      ]
     },
     "metadata": {},
     "output_type": "display_data"
    }
   ],
   "source": [
    "# Visualizing cross-validated metrics\n",
    "cv_metrics = pd.DataFrame({\"Accuracy\": cv_acc,\n",
    "                            \"Precision\": cv_precision,\n",
    "                            \"Recall\": cv_recall,\n",
    "                            \"F1\": cv_f1},\n",
    "                          index=[0])\n",
    "cv_metrics.T.plot.bar(title=\"Cross-Validated Metrics\", legend=False);"
   ]
  },
  {
   "cell_type": "markdown",
   "metadata": {},
   "source": [
    "Finally, let's find feature importance."
   ]
  },
  {
   "cell_type": "code",
   "execution_count": 52,
   "metadata": {},
   "outputs": [],
   "source": [
    "# Fit an instance of LogisticRegression (taken from above)\n",
    "clf.fit(X_train, y_train);"
   ]
  },
  {
   "cell_type": "code",
   "execution_count": 53,
   "metadata": {},
   "outputs": [
    {
     "data": {
      "text/plain": [
       "array([[ 8.87209132e-06,  1.94279180e-02,  7.06230325e-04,\n",
       "         2.81415145e-04, -1.28794724e-04, -3.40322794e-06,\n",
       "         2.07940310e-04,  1.08069058e-03,  0.00000000e+00,\n",
       "         0.00000000e+00,  0.00000000e+00]])"
      ]
     },
     "execution_count": 53,
     "metadata": {},
     "output_type": "execute_result"
    }
   ],
   "source": [
    "# Check coef_\n",
    "clf.coef_"
   ]
  },
  {
   "cell_type": "code",
   "execution_count": 54,
   "metadata": {
    "scrolled": true
   },
   "outputs": [
    {
     "data": {
      "text/plain": [
       "{'user_id': 8.872091320129856e-06,\n",
       " 'last_session_creation_time': 0.019427918036586434,\n",
       " 'opted_in_to_mailing_list': 0.0007062303248095274,\n",
       " 'enabled_for_marketing_drip': 0.0002814151449103184,\n",
       " 'org_id': -0.00012879472383256008,\n",
       " 'invited_by_user_id': -3.403227940842915e-06,\n",
       " 'creation_source_GUEST_INVITE': 0.00020794030961365456,\n",
       " 'creation_source_ORG_INVITE': 0.0010806905846671348,\n",
       " 'creation_source_PERSONAL_PROJECTS': 0.0,\n",
       " 'creation_source_SIGNUP': 0.0,\n",
       " 'creation_source_SIGNUP_GOOGLE_AUTH': 0.0}"
      ]
     },
     "execution_count": 54,
     "metadata": {},
     "output_type": "execute_result"
    }
   ],
   "source": [
    "# Match features to columns\n",
    "features_dict = dict(zip(X.columns, list(clf.coef_[0])))\n",
    "features_dict"
   ]
  },
  {
   "cell_type": "code",
   "execution_count": 55,
   "metadata": {
    "scrolled": false
   },
   "outputs": [
    {
     "data": {
      "image/png": "[encoded data removed]",
      "text/plain": [
       "<Figure size 1152x720 with 1 Axes>"
      ]
     },
     "metadata": {},
     "output_type": "display_data"
    }
   ],
   "source": [
    "# Visualize feature importance\n",
    "features_df = pd.DataFrame(features_dict, index=[0])\n",
    "features_df.T.plot.barh(title=\"Feature Importance\", legend=False);"
   ]
  }
 ],
 "metadata": {
  "kernelspec": {
   "display_name": "Python 3",
   "language": "python",
   "name": "python3"
  },
  "language_info": {
   "codemirror_mode": {
    "name": "ipython",
    "version": 3
   },
   "file_extension": ".py",
   "mimetype": "text/x-python",
   "name": "python",
   "nbconvert_exporter": "python",
   "pygments_lexer": "ipython3",
   "version": "3.8.5"
  }
 },
 "nbformat": 4,
 "nbformat_minor": 2
}
